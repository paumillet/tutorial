{
 "cells": [
  {
   "cell_type": "markdown",
   "metadata": {},
   "source": [
    "# Indroducing Kepler.gl for Jupyter Notebook\n",
    "\n",
    "Blog articles:\n",
    "* [Introducing kepler.gl for Jupyter](https://medium.com/vis-gl/introducing-kepler-gl-for-jupyter-f72d41659fbf), 2019 June 25\n",
    "* [Exploring Geospatial Data with kepler.gl](https://medium.com/vis-gl/exploring-geospatial-data-with-kepler-gl-cf655839628f), 2019 August 26"
   ]
  },
  {
   "cell_type": "markdown",
   "metadata": {},
   "source": [
    "### Load an empty map"
   ]
  },
  {
   "cell_type": "code",
   "execution_count": 11,
   "metadata": {},
   "outputs": [],
   "source": [
    "from keplergl import KeplerGl\n",
    "import geopandas as gpd"
   ]
  },
  {
   "cell_type": "code",
   "execution_count": 6,
   "metadata": {},
   "outputs": [
    {
     "name": "stdout",
     "output_type": "stream",
     "text": [
      "User Guide: https://github.com/keplergl/kepler.gl/blob/master/docs/keplergl-jupyter/user-guide.md\n"
     ]
    },
    {
     "data": {
      "application/vnd.jupyter.widget-view+json": {
       "model_id": "a4f0b7e28b0f4eff97eea5181557768e",
       "version_major": 2,
       "version_minor": 0
      },
      "text/plain": [
       "KeplerGl(height=800)"
      ]
     },
     "metadata": {},
     "output_type": "display_data"
    }
   ],
   "source": [
    "mymap = KeplerGl(height=800)  # `height` parameter to define window size\n",
    "\n",
    "mymap"
   ]
  },
  {
   "cell_type": "markdown",
   "metadata": {},
   "source": [
    "### Add data\n",
    "Kepler.gl widget supports csv and GeoJSON as Kepler app, but also `pandas` and `geopandas` DataFrame.\n",
    "\n",
    "The method `add_data` allows to add data to the map. `data` and `name` are the required parameters. After the data is loaded into the map, you can use the side panel to edit the layers, filters and base map style just like how you would with kepler.gl."
   ]
  },
  {
   "cell_type": "code",
   "execution_count": 16,
   "metadata": {},
   "outputs": [],
   "source": [
    "# Create GeoDataFrame and remove `None` geometries\n",
    "gdf_cafes = gpd.read_file('data/liste-des-cafes-a-un-euro.geojson')\n",
    "gdf_cafes = gdf_cafes[gdf_cafes.geometry.notnull()]"
   ]
  },
  {
   "cell_type": "code",
   "execution_count": 18,
   "metadata": {},
   "outputs": [
    {
     "data": {
      "application/vnd.jupyter.widget-view+json": {
       "model_id": "a4f0b7e28b0f4eff97eea5181557768e",
       "version_major": 2,
       "version_minor": 0
      },
      "text/plain": [
       "KeplerGl(config={'version': 'v1', 'config': {'visState': {'filters': [], 'layers': [{'id': '7dcskok', 'type': …"
      ]
     },
     "metadata": {},
     "output_type": "display_data"
    }
   ],
   "source": [
    "# Add the created gdf to map and display the map\n",
    "mymap.add_data(data=gdf_cafes, name='Cafés à 1€')\n",
    "mymap"
   ]
  },
  {
   "cell_type": "markdown",
   "metadata": {},
   "source": [
    "Unfortunately, Kepler.gl doesn't recognize point geometry if coordinates are not explicitly expressed. The only coordinates system accepted is `epsg:4326`.  \n",
    "On the previous map, the points are actually mapped as polygons..."
   ]
  },
  {
   "cell_type": "code",
   "execution_count": 36,
   "metadata": {},
   "outputs": [
    {
     "data": {
      "text/html": [
       "<div>\n",
       "<style scoped>\n",
       "    .dataframe tbody tr th:only-of-type {\n",
       "        vertical-align: middle;\n",
       "    }\n",
       "\n",
       "    .dataframe tbody tr th {\n",
       "        vertical-align: top;\n",
       "    }\n",
       "\n",
       "    .dataframe thead th {\n",
       "        text-align: right;\n",
       "    }\n",
       "</style>\n",
       "<table border=\"1\" class=\"dataframe\">\n",
       "  <thead>\n",
       "    <tr style=\"text-align: right;\">\n",
       "      <th></th>\n",
       "      <th>arrondissement</th>\n",
       "      <th>adresse</th>\n",
       "      <th>prix_salle</th>\n",
       "      <th>nom_du_cafe</th>\n",
       "      <th>prix_terasse</th>\n",
       "      <th>date</th>\n",
       "      <th>prix_comptoir</th>\n",
       "      <th>geometry</th>\n",
       "      <th>lon</th>\n",
       "      <th>lat</th>\n",
       "    </tr>\n",
       "  </thead>\n",
       "  <tbody>\n",
       "    <tr>\n",
       "      <th>0</th>\n",
       "      <td>75015</td>\n",
       "      <td>344Vrue Vaugirard</td>\n",
       "      <td>-</td>\n",
       "      <td>Coffee Chope</td>\n",
       "      <td>-</td>\n",
       "      <td>2014-02-01</td>\n",
       "      <td>1.0</td>\n",
       "      <td>POINT (2.30242 48.83969)</td>\n",
       "      <td>2.302416</td>\n",
       "      <td>48.839695</td>\n",
       "    </tr>\n",
       "    <tr>\n",
       "      <th>1</th>\n",
       "      <td>75010</td>\n",
       "      <td>5, rue d'Alsace</td>\n",
       "      <td>-</td>\n",
       "      <td>Extérieur Quai</td>\n",
       "      <td>-</td>\n",
       "      <td>2014-02-01</td>\n",
       "      <td>1.0</td>\n",
       "      <td>POINT (2.35760 48.87674)</td>\n",
       "      <td>2.357601</td>\n",
       "      <td>48.876737</td>\n",
       "    </tr>\n",
       "    <tr>\n",
       "      <th>2</th>\n",
       "      <td>75004</td>\n",
       "      <td>6 Bd henri IV</td>\n",
       "      <td>-</td>\n",
       "      <td>Le Sully</td>\n",
       "      <td>-</td>\n",
       "      <td>2014-02-01</td>\n",
       "      <td>1.0</td>\n",
       "      <td>POINT (2.36203 48.85085)</td>\n",
       "      <td>2.362029</td>\n",
       "      <td>48.850852</td>\n",
       "    </tr>\n",
       "    <tr>\n",
       "      <th>3</th>\n",
       "      <td>75018</td>\n",
       "      <td>53 rue du ruisseau</td>\n",
       "      <td>-</td>\n",
       "      <td>O q de poule</td>\n",
       "      <td>1</td>\n",
       "      <td>2013-08-22</td>\n",
       "      <td>1.0</td>\n",
       "      <td>POINT (2.34027 48.89352)</td>\n",
       "      <td>2.340271</td>\n",
       "      <td>48.893517</td>\n",
       "    </tr>\n",
       "    <tr>\n",
       "      <th>4</th>\n",
       "      <td>75018</td>\n",
       "      <td>112 Rue Championnet</td>\n",
       "      <td>-</td>\n",
       "      <td>La Renaissance</td>\n",
       "      <td>-</td>\n",
       "      <td>2013-08-22</td>\n",
       "      <td>1.0</td>\n",
       "      <td>POINT (2.33971 48.89583)</td>\n",
       "      <td>2.339712</td>\n",
       "      <td>48.895825</td>\n",
       "    </tr>\n",
       "  </tbody>\n",
       "</table>\n",
       "</div>"
      ],
      "text/plain": [
       "   arrondissement              adresse prix_salle     nom_du_cafe  \\\n",
       "0           75015    344Vrue Vaugirard          -    Coffee Chope   \n",
       "1           75010      5, rue d'Alsace          -  Extérieur Quai   \n",
       "2           75004        6 Bd henri IV          -        Le Sully   \n",
       "3           75018   53 rue du ruisseau          -    O q de poule   \n",
       "4           75018  112 Rue Championnet          -  La Renaissance   \n",
       "\n",
       "  prix_terasse        date  prix_comptoir                  geometry       lon  \\\n",
       "0            -  2014-02-01            1.0  POINT (2.30242 48.83969)  2.302416   \n",
       "1            -  2014-02-01            1.0  POINT (2.35760 48.87674)  2.357601   \n",
       "2            -  2014-02-01            1.0  POINT (2.36203 48.85085)  2.362029   \n",
       "3            1  2013-08-22            1.0  POINT (2.34027 48.89352)  2.340271   \n",
       "4            -  2013-08-22            1.0  POINT (2.33971 48.89583)  2.339712   \n",
       "\n",
       "         lat  \n",
       "0  48.839695  \n",
       "1  48.876737  \n",
       "2  48.850852  \n",
       "3  48.893517  \n",
       "4  48.895825  "
      ]
     },
     "execution_count": 36,
     "metadata": {},
     "output_type": "execute_result"
    }
   ],
   "source": [
    "gdf_cafes['lon'] = gdf_cafes.geometry.x\n",
    "gdf_cafes['lat'] = gdf_cafes.geometry.y\n",
    "gdf_cafes.head()"
   ]
  },
  {
   "cell_type": "code",
   "execution_count": 38,
   "metadata": {},
   "outputs": [
    {
     "data": {
      "application/vnd.jupyter.widget-view+json": {
       "model_id": "a4f0b7e28b0f4eff97eea5181557768e",
       "version_major": 2,
       "version_minor": 0
      },
      "text/plain": [
       "KeplerGl(config={'version': 'v1', 'config': {'visState': {'filters': [], 'layers': [{'id': '7rgwya', 'type': '…"
      ]
     },
     "metadata": {},
     "output_type": "display_data"
    }
   ],
   "source": [
    "# Add the created gdf to map and display the map\n",
    "mymap.add_data(data=gdf_cafes, name='Cafés à 1€')\n",
    "mymap"
   ]
  },
  {
   "cell_type": "markdown",
   "metadata": {},
   "source": [
    "### Save your map"
   ]
  },
  {
   "cell_type": "markdown",
   "metadata": {},
   "source": [
    "#### 1.Map configuration\n",
    "The first one is to save the map configuration, using `.config`. When you would like to work again on your map, you would just have to load the saved configuration into parameters when calling `KeplerGL()`."
   ]
  },
  {
   "cell_type": "code",
   "execution_count": 20,
   "metadata": {},
   "outputs": [],
   "source": [
    "# Save your map configuration\n",
    "mymap_config = mymap.config"
   ]
  },
  {
   "cell_type": "code",
   "execution_count": 23,
   "metadata": {},
   "outputs": [
    {
     "name": "stdout",
     "output_type": "stream",
     "text": [
      "User Guide: https://github.com/keplergl/kepler.gl/blob/master/docs/keplergl-jupyter/user-guide.md\n"
     ]
    },
    {
     "data": {
      "application/vnd.jupyter.widget-view+json": {
       "model_id": "e13dccd4a19449fb9037ae88abbced70",
       "version_major": 2,
       "version_minor": 0
      },
      "text/plain": [
       "KeplerGl(config={'version': 'v1', 'config': {'visState': {'filters': [], 'layers': [{'id': 'okszg0c', 'type': …"
      ]
     },
     "metadata": {},
     "output_type": "display_data"
    }
   ],
   "source": [
    "# Create a new map with the same configuration\n",
    "# The name of the data and the dataId in the configuration file must match\n",
    "mynewmap = KeplerGl(height=800, data={'Cafés à 1€': gdf_cafes}, config=mymap_config)\n",
    "mynewmap"
   ]
  },
  {
   "cell_type": "markdown",
   "metadata": {},
   "source": [
    "#### 2.Save to html file\n",
    "Kepler.gl also offers the option to save the created map as an interactive html file."
   ]
  },
  {
   "cell_type": "code",
   "execution_count": 24,
   "metadata": {},
   "outputs": [
    {
     "name": "stdout",
     "output_type": "stream",
     "text": [
      "Map saved to my_keplergl_map.html!\n"
     ]
    }
   ],
   "source": [
    "# Save current map to html file\n",
    "mymap.save_to_html(file_name=\"my_keplergl_map.html\")"
   ]
  },
  {
   "cell_type": "markdown",
   "metadata": {},
   "source": [
    "kepler.gl map data and config are saved to iPython widget state. This allows the notebook file to be rendered with rendered map. Unfortunately, widget state is not automatically saved when the kernel shuts down. Which means in order to load the map after restarting the kernel, you need to manually save notebook widget state before shutting down the kernel "
   ]
  },
  {
   "cell_type": "code",
   "execution_count": null,
   "metadata": {},
   "outputs": [],
   "source": []
  }
 ],
 "metadata": {
  "kernelspec": {
   "display_name": "kepler_env",
   "language": "python",
   "name": "kepler_env"
  },
  "language_info": {
   "codemirror_mode": {
    "name": "ipython",
    "version": 3
   },
   "file_extension": ".py",
   "mimetype": "text/x-python",
   "name": "python",
   "nbconvert_exporter": "python",
   "pygments_lexer": "ipython3",
   "version": "3.6.8"
  },
  "widgets": {
   "application/vnd.jupyter.widget-state+json": {
    "state": {
     "0901e5a4907a4ceabf3396ccfbdab51a": {
      "model_module": "@jupyter-widgets/base",
      "model_module_version": "1.2.0",
      "model_name": "LayoutModel",
      "state": {}
     },
     "0e6ebefc0f3241be90a4ed0526932180": {
      "model_module": "keplergl-jupyter",
      "model_module_version": "^0.1.0",
      "model_name": "KeplerGlModal",
      "state": {
       "_model_module_version": "^0.1.0",
       "_view_module_version": "^0.1.0",
       "config": {
        "config": {
         "mapState": {
          "bearing": 0,
          "dragRotate": false,
          "isSplit": false,
          "latitude": 37.75043,
          "longitude": -122.34679,
          "pitch": 0,
          "zoom": 9
         },
         "mapStyle": {
          "mapStyles": {},
          "styleType": "dark",
          "threeDBuildingColor": [
           9.665468314072013,
           17.18305478057247,
           31.1442867897876
          ],
          "topLayerGroups": {},
          "visibleLayerGroups": {
           "3d building": false,
           "border": false,
           "building": true,
           "label": true,
           "land": true,
           "road": true,
           "water": true
          }
         },
         "visState": {
          "filters": [],
          "interactionConfig": {
           "brush": {
            "enabled": false,
            "size": 0.5
           },
           "tooltip": {
            "enabled": true,
            "fieldsToShow": {}
           }
          },
          "layerBlending": "normal",
          "layers": [],
          "splitMaps": []
         }
        },
        "version": "v1"
       },
       "height": 1000,
       "layout": "IPY_MODEL_cc8b4cb9b47b45369ca0b6cc8f783b86",
       "value": "Hello World!"
      }
     },
     "36f48ee628be44e0bc9838d4c7fe77dd": {
      "model_module": "keplergl-jupyter",
      "model_module_version": "^0.1.0",
      "model_name": "KeplerGlModal",
      "state": {
       "_model_module_version": "^0.1.0",
       "_view_module_version": "^0.1.0",
       "config": {
        "config": {
         "mapState": {
          "bearing": 0,
          "dragRotate": false,
          "isSplit": false,
          "latitude": 37.75043,
          "longitude": -122.34679,
          "pitch": 0,
          "zoom": 9
         },
         "mapStyle": {
          "mapStyles": {},
          "styleType": "dark",
          "threeDBuildingColor": [
           9.665468314072013,
           17.18305478057247,
           31.1442867897876
          ],
          "topLayerGroups": {},
          "visibleLayerGroups": {
           "3d building": false,
           "border": false,
           "building": true,
           "label": true,
           "land": true,
           "road": true,
           "water": true
          }
         },
         "visState": {
          "filters": [],
          "interactionConfig": {
           "brush": {
            "enabled": false,
            "size": 0.5
           },
           "tooltip": {
            "enabled": true,
            "fieldsToShow": {}
           }
          },
          "layerBlending": "normal",
          "layers": [],
          "splitMaps": []
         }
        },
        "version": "v1"
       },
       "height": 800,
       "layout": "IPY_MODEL_a1158924f9e74dceac295b5f61172ee9",
       "value": "Hello World!"
      }
     },
     "4cd83bb569eb44adbd1b9b1097ef78dc": {
      "model_module": "@jupyter-widgets/base",
      "model_module_version": "1.2.0",
      "model_name": "LayoutModel",
      "state": {}
     },
     "4d5b9225b4714a39a284ae4a77150a23": {
      "model_module": "keplergl-jupyter",
      "model_module_version": "^0.1.0",
      "model_name": "KeplerGlModal",
      "state": {
       "_model_module_version": "^0.1.0",
       "_view_module_version": "^0.1.0",
       "config": {
        "config": {
         "mapState": {
          "bearing": 0,
          "dragRotate": false,
          "isSplit": false,
          "latitude": 37.75043,
          "longitude": -122.34679,
          "pitch": 0,
          "zoom": 9
         },
         "mapStyle": {
          "mapStyles": {},
          "styleType": "dark",
          "threeDBuildingColor": [
           9.665468314072013,
           17.18305478057247,
           31.1442867897876
          ],
          "topLayerGroups": {},
          "visibleLayerGroups": {
           "3d building": false,
           "border": false,
           "building": true,
           "label": true,
           "land": true,
           "road": true,
           "water": true
          }
         },
         "visState": {
          "filters": [],
          "interactionConfig": {
           "brush": {
            "enabled": false,
            "size": 0.5
           },
           "tooltip": {
            "enabled": true,
            "fieldsToShow": {}
           }
          },
          "layerBlending": "normal",
          "layers": [],
          "splitMaps": []
         }
        },
        "version": "v1"
       },
       "height": 500,
       "layout": "IPY_MODEL_0901e5a4907a4ceabf3396ccfbdab51a",
       "value": "Hello World!"
      }
     },
     "8f9bb6c609364d33b07e000debcde34a": {
      "model_module": "@jupyter-widgets/base",
      "model_module_version": "1.2.0",
      "model_name": "LayoutModel",
      "state": {}
     },
     "a1158924f9e74dceac295b5f61172ee9": {
      "model_module": "@jupyter-widgets/base",
      "model_module_version": "1.2.0",
      "model_name": "LayoutModel",
      "state": {}
     },
     "a4f0b7e28b0f4eff97eea5181557768e": {
      "model_module": "keplergl-jupyter",
      "model_module_version": "^0.1.0",
      "model_name": "KeplerGlModal",
      "state": {
       "_model_module_version": "^0.1.0",
       "_view_module_version": "^0.1.0",
       "config": {
        "config": {
         "mapState": {
          "bearing": 24,
          "dragRotate": true,
          "isSplit": false,
          "latitude": 48.8624662722253,
          "longitude": 2.3155304455660097,
          "pitch": 50,
          "zoom": 11.139508929944764
         },
         "mapStyle": {
          "mapStyles": {},
          "styleType": "dark",
          "threeDBuildingColor": [
           9.665468314072013,
           17.18305478057247,
           31.1442867897876
          ],
          "topLayerGroups": {},
          "visibleLayerGroups": {
           "3d building": false,
           "border": false,
           "building": true,
           "label": true,
           "land": true,
           "road": true,
           "water": true
          }
         },
         "visState": {
          "filters": [],
          "interactionConfig": {
           "brush": {
            "enabled": false,
            "size": 0.5
           },
           "tooltip": {
            "enabled": true,
            "fieldsToShow": {
             "Cafés à 1€": [
              "nom_du_cafe"
             ],
             "unnamed": [
              "arrondissement",
              "adresse",
              "prix_salle",
              "nom_du_cafe",
              "prix_terasse"
             ]
            }
           }
          },
          "layerBlending": "normal",
          "layers": [
           {
            "config": {
             "color": [
              246,
              209,
              138
             ],
             "columns": {
              "lat": "lat",
              "lng": "lon"
             },
             "dataId": "Cafés à 1€",
             "isVisible": true,
             "label": "Point",
             "textLabel": [
              {
               "alignment": "center",
               "anchor": "start",
               "color": [
                255,
                255,
                255
               ],
               "field": null,
               "offset": [
                0,
                0
               ],
               "size": 18
              }
             ],
             "visConfig": {
              "colorRange": {
               "category": "Uber",
               "colors": [
                "#5A1846",
                "#900C3F",
                "#C70039",
                "#E3611C",
                "#F1920E",
                "#FFC300"
               ],
               "name": "Global Warming",
               "type": "sequential"
              },
              "opacity": 0.8,
              "radius": 10
             }
            },
            "id": "a3bu7u6",
            "type": "heatmap",
            "visualChannels": {
             "weightField": null,
             "weightScale": "linear"
            }
           },
           {
            "config": {
             "color": [
              183,
              136,
              94
             ],
             "columns": {
              "geojson": "geometry"
             },
             "dataId": "Cafés à 1€",
             "isVisible": true,
             "label": "Cafés à 1€",
             "textLabel": [
              {
               "alignment": "center",
               "anchor": "start",
               "color": [
                255,
                255,
                255
               ],
               "field": null,
               "offset": [
                0,
                0
               ],
               "size": 18
              }
             ],
             "visConfig": {
              "colorRange": {
               "category": "Uber",
               "colors": [
                "#5A1846",
                "#900C3F",
                "#C70039",
                "#E3611C",
                "#F1920E",
                "#FFC300"
               ],
               "name": "Global Warming",
               "type": "sequential"
              },
              "elevationScale": 5,
              "enable3d": false,
              "filled": true,
              "heightRange": [
               0,
               500
              ],
              "opacity": 0.8,
              "radius": 10,
              "radiusRange": [
               0,
               50
              ],
              "sizeRange": [
               0,
               10
              ],
              "strokeColor": null,
              "strokeColorRange": {
               "category": "Uber",
               "colors": [
                "#5A1846",
                "#900C3F",
                "#C70039",
                "#E3611C",
                "#F1920E",
                "#FFC300"
               ],
               "name": "Global Warming",
               "type": "sequential"
              },
              "stroked": false,
              "thickness": 0.5,
              "wireframe": false
             }
            },
            "id": "vjouqvd",
            "type": "geojson",
            "visualChannels": {
             "colorField": null,
             "colorScale": "quantile",
             "heightField": null,
             "heightScale": "linear",
             "radiusField": null,
             "radiusScale": "linear",
             "sizeField": null,
             "sizeScale": "linear",
             "strokeColorField": null,
             "strokeColorScale": "quantile"
            }
           }
          ],
          "splitMaps": []
         }
        },
        "version": "v1"
       },
       "data": {
        "Cafés à 1€": {
         "columns": [
          "arrondissement",
          "adresse",
          "prix_salle",
          "nom_du_cafe",
          "prix_terasse",
          "date",
          "prix_comptoir",
          "geometry",
          "lon",
          "lat"
         ],
         "data": [
          [
           75015,
           "344Vrue Vaugirard",
           "-",
           "Coffee Chope",
           "-",
           "2014-02-01",
           1,
           "POINT (2.3024160000000000 48.8396949999999990)",
           2.302416,
           48.839695
          ],
          [
           75010,
           "5, rue d'Alsace",
           "-",
           "Extérieur Quai",
           "-",
           "2014-02-01",
           1,
           "POINT (2.3576009999999998 48.8767369999999985)",
           2.357601,
           48.876737
          ],
          [
           75004,
           "6 Bd henri IV",
           "-",
           "Le Sully",
           "-",
           "2014-02-01",
           1,
           "POINT (2.3620290000000002 48.8508520000000033)",
           2.362029,
           48.850852
          ],
          [
           75018,
           "53 rue du ruisseau",
           "-",
           "O q de poule",
           "1",
           "2013-08-22",
           1,
           "POINT (2.3402710000000000 48.8935170000000028)",
           2.340271,
           48.893517
          ],
          [
           75018,
           "112 Rue Championnet",
           "-",
           "La Renaissance",
           "-",
           "2013-08-22",
           1,
           "POINT (2.3397120000000000 48.8958250000000021)",
           2.339712,
           48.895825
          ],
          [
           75001,
           "202 rue Saint Honoré",
           "-",
           "Ragueneau",
           "-",
           "2012-05-11",
           1,
           "POINT (2.3376100000000002 48.8626689999999968)",
           2.33761,
           48.862669
          ],
          [
           75009,
           "51 Rue Victoire",
           "1",
           "Le chantereine",
           "-",
           "2012-10-22",
           1,
           "POINT (2.3355359999999998 48.8751549999999995)",
           2.335536,
           48.875155
          ],
          [
           75018,
           "11 rue Feutrier",
           "1",
           "Le Müller",
           "-",
           "2012-10-22",
           1,
           "POINT (2.3465250000000002 48.8865359999999995)",
           2.346525,
           48.886536
          ],
          [
           75015,
           "21 rue Copreaux",
           "1",
           "Le drapeau de la fidelité",
           "-",
           "2012-10-22",
           1,
           "POINT (2.3071169999999999 48.8414939999999973)",
           2.307117,
           48.841494
          ],
          [
           75015,
           "125 rue Blomet",
           "1",
           "Le café des amis",
           "-",
           "2012-10-22",
           1,
           "POINT (2.2968980000000001 48.8397429999999986)",
           2.296898,
           48.839743
          ],
          [
           75004,
           "10 rue Saint Martin",
           "-",
           "Le Café Livres",
           "-",
           "2012-10-09",
           1,
           "POINT (2.3496410000000001 48.8577280000000016)",
           2.349641,
           48.857728
          ],
          [
           75007,
           "46 avenue Bosquet",
           "-",
           "Le Bosquet",
           "-",
           "2012-10-09",
           1,
           "POINT (2.3045700000000000 48.8560030000000012)",
           2.30457,
           48.856003
          ],
          [
           75013,
           "34 avenue Pierre Mendès-France",
           "-",
           "Le Kleemend's",
           "-",
           "2012-03-07",
           1,
           "POINT (2.3704779999999999 48.8385210000000001)",
           2.370478,
           48.838521
          ],
          [
           75012,
           "202 rue du faubourg st antoine",
           "-",
           "Café Pierre",
           "-",
           "2012-03-07",
           1,
           "POINT (2.3853420000000001 48.8498609999999971)",
           2.385342,
           48.849861
          ],
          [
           75008,
           "61 rue de Ponthieu",
           "-",
           "Les Arcades",
           "-",
           "2012-03-07",
           1,
           "POINT (2.3046240000000000 48.8722020000000015)",
           2.304624,
           48.872202
          ],
          [
           75007,
           "31 rue Saint-Dominique",
           "-",
           "Le Square",
           "-",
           "2012-03-07",
           1,
           "POINT (2.3203149999999999 48.8590310000000017)",
           2.320315,
           48.859031
          ],
          [
           75012,
           "75, avenue Ledru-Rollin",
           "-",
           "Assaporare Dix sur Dix",
           "-",
           "2012-06-27",
           1,
           "POINT (2.3746299999999998 48.8500919999999965)",
           2.37463,
           48.850092
          ],
          [
           75002,
           "129 boulevard sebastopol",
           "-",
           "Au cerceau d'or",
           "-",
           "2012-06-27",
           1,
           "POINT (2.3533130000000000 48.8680499999999967)",
           2.353313,
           48.86805
          ],
          [
           75012,
           "21 ter boulevard Diderot",
           "-",
           "Aux cadrans",
           "-",
           "2012-06-27",
           1,
           "POINT (2.3730509999999998 48.8459270000000032)",
           2.373051,
           48.845927
          ],
          [
           75016,
           "17 rue Jean de la Fontaine",
           "-",
           "Café antoine",
           "-",
           "2012-06-27",
           1,
           "POINT (2.2738830000000001 48.8516619999999975)",
           2.273883,
           48.851662
          ],
          [
           75008,
           "rue de Lisbonne",
           "-",
           "Café de la Mairie (du VIII)",
           "-",
           "2012-06-27",
           1,
           "POINT (2.3126880000000001 48.8775779999999997)",
           2.312688,
           48.877578
          ],
          [
           75005,
           "5 rue Claude Bernard",
           "-",
           "Café Lea",
           "-",
           "2012-06-27",
           1,
           "POINT (2.3499159999999999 48.8386330000000015)",
           2.349916,
           48.838633
          ],
          [
           75005,
           "11 boulevard Saint-Germain",
           "-",
           "Cardinal Saint-Germain",
           "-",
           "2012-06-27",
           1,
           "POINT (2.3544860000000001 48.8492930000000030)",
           2.354486,
           48.849293
          ],
          [
           75002,
           "52 rue Notre-Dame des Victoires",
           "-",
           "Dédé la frite",
           "-",
           "2012-06-27",
           1,
           "POINT (2.3425120000000001 48.8697659999999985)",
           2.342512,
           48.869766
          ],
          [
           75015,
           "36 rue du hameau",
           "-",
           "La Bauloise",
           "-",
           "2012-06-27",
           1,
           "POINT (2.2873450000000002 48.8340510000000023)",
           2.287345,
           48.834051
          ],
          [
           75019,
           "71 quai de Seine",
           "-",
           "Le Bellerive",
           "-",
           "2012-06-27",
           1,
           "POINT (2.3773870000000001 48.8881650000000008)",
           2.377387,
           48.888165
          ],
          [
           75001,
           "42 rue coquillère",
           "-",
           "Le bistrot de Maëlle et Augustin",
           "-",
           "2012-06-27",
           1,
           "POINT (2.3409970000000002 48.8645429999999976)",
           2.340997,
           48.864543
          ],
          [
           75009,
           "14 rue Rougemont",
           "-",
           "Le Dellac",
           "-",
           "2012-06-27",
           1,
           "POINT (2.3461609999999999 48.8721030000000027)",
           2.346161,
           48.872103
          ],
          [
           75004,
           "1 rue Pecquay",
           "-",
           "Le Felteu",
           "-",
           "2012-06-27",
           1,
           "POINT (2.3555980000000001 48.8596450000000004)",
           2.355598,
           48.859645
          ],
          [
           75001,
           "2 bis quai de la mégisserie",
           "-",
           "Le Reynou",
           "-",
           "2012-06-27",
           1,
           "POINT (2.3461010000000000 48.8576300000000003)",
           2.346101,
           48.85763
          ],
          [
           75018,
           "23 rue des abbesses",
           "-",
           "Le Saint Jean",
           "-",
           "2012-06-27",
           1,
           "POINT (2.3377340000000002 48.8846459999999965)",
           2.337734,
           48.884646
          ],
          [
           75006,
           "16 rue DE MEZIERES",
           "-",
           "L'antre d'eux",
           "-",
           "2014-02-01",
           1,
           "POINT (2.3303900000000000 48.8503230000000030)",
           2.33039,
           48.850323
          ],
          [
           75002,
           "58 rue de Montorgueil",
           "-",
           "Drole d'endroit pour une rencontre",
           "-",
           "2014-02-01",
           1,
           "POINT (2.3469380000000002 48.8649569999999969)",
           2.346938,
           48.864957
          ],
          [
           75018,
           "104 rue caulaincourt",
           "-",
           "Le pari's café",
           "-",
           "2014-02-01",
           1,
           "POINT (2.3397350000000001 48.8895649999999975)",
           2.339735,
           48.889565
          ],
          [
           75011,
           "60 rue saint-sabin",
           "-",
           "Le Poulailler",
           "-",
           "2014-02-01",
           1,
           "POINT (2.3688709999999999 48.8591150000000027)",
           2.368871,
           48.859115
          ],
          [
           75012,
           "33 Cour Saint Emilion",
           "-",
           "Chai 33",
           "-",
           "2014-02-01",
           1,
           "POINT (2.3860399999999999 48.8335950000000025)",
           2.38604,
           48.833595
          ],
          [
           75011,
           "99 rue Jean-Pierre Timbaud",
           "-",
           "L'Assassin",
           "-",
           "2014-02-01",
           1,
           "POINT (2.3799690000000000 48.8687410000000000)",
           2.379969,
           48.868741
          ],
          [
           75020,
           "1 rue d'Avron",
           "-",
           "l'Usine",
           "-",
           "2014-02-01",
           1,
           "POINT (2.3986909999999999 48.8514630000000025)",
           2.398691,
           48.851463
          ],
          [
           75018,
           "52 rue Liebniz",
           "-",
           "La Bricole",
           "-",
           "2014-02-01",
           1,
           "POINT (2.3328980000000001 48.8963049999999981)",
           2.332898,
           48.896305
          ],
          [
           75003,
           "82 rue des archives",
           "-",
           "Face Bar",
           "-",
           "2014-02-01",
           1,
           "POINT (2.3603999999999998 48.8630380000000031)",
           2.3604,
           48.863038
          ],
          [
           75003,
           "Place de la République",
           "-",
           "Le café Monde et Médias",
           "-",
           "2013-08-22",
           1,
           "POINT (2.3634830000000000 48.8669760000000011)",
           2.363483,
           48.866976
          ],
          [
           75010,
           "49 rue bichat",
           "-",
           "American Kitchen",
           "-",
           "2013-08-22",
           1,
           "POINT (2.3663919999999998 48.8727459999999994)",
           2.366392,
           48.872746
          ],
          [
           75010,
           "55 bis quai de valmy",
           "-",
           "La Marine",
           "-",
           "2013-08-22",
           1,
           "POINT (2.3654130000000002 48.8705980000000011)",
           2.365413,
           48.870598
          ],
          [
           75017,
           "21 avenue Brochant",
           "-",
           "Le Bloc",
           "-",
           "2013-08-22",
           1,
           "POINT (2.3180010000000002 48.8891009999999966)",
           2.318001,
           48.889101
          ],
          [
           75020,
           "229 avenue Gambetta",
           "-",
           "La Recoleta au Manoir",
           "-",
           "2013-08-22",
           1,
           "POINT (2.4054210000000000 48.8746969999999976)",
           2.405421,
           48.874697
          ],
          [
           75015,
           "80 Rue Saint-Charles",
           "-",
           "Le Pareloup",
           "-",
           "2013-08-22",
           0,
           "POINT (2.2860779999999998 48.8473439999999997)",
           2.286078,
           48.847344
          ],
          [
           75014,
           "3 rue de la Gaité",
           "-",
           "La Brasserie Gaité",
           "1",
           "2013-08-22",
           "nan",
           "POINT (2.3245890000000000 48.8407709999999966)",
           2.324589,
           48.840771
          ],
          [
           75009,
           "46 rue Victoire",
           "-",
           "Café Zen",
           "-",
           "2012-05-11",
           1,
           "POINT (2.3360360000000000 48.8752319999999969)",
           2.336036,
           48.875232
          ],
          [
           75005,
           "7 rue Epée de Bois",
           "1",
           "Invitez vous chez nous",
           "-",
           "2012-10-22",
           1,
           "POINT (2.3510119999999999 48.8415260000000018)",
           2.351012,
           48.841526
          ],
          [
           75002,
           "142 Rue Saint-Denis 75002 Paris",
           "1",
           "La Cordonnerie",
           "-",
           "2012-10-22",
           1,
           "POINT (2.3505069999999999 48.8652500000000032)",
           2.350507,
           48.86525
          ],
          [
           75018,
           "3, rue Baudelique",
           "1",
           "Le Supercoin",
           "-",
           "2012-10-22",
           1,
           "POINT (2.3469730000000002 48.8922439999999980)",
           2.346973,
           48.892244
          ],
          [
           75018,
           "86 bis rue Riquet",
           "1",
           "Populettes",
           "-",
           "2012-10-22",
           1,
           "POINT (2.3622410000000000 48.8900429999999986)",
           2.362241,
           48.890043
          ],
          [
           75018,
           "49 rue des Cloys",
           "1",
           "Au bon coin",
           "1",
           "2012-10-18",
           1,
           "POINT (2.3377759999999999 48.8930170000000004)",
           2.337776,
           48.893017
          ],
          [
           75013,
           "69 rue Broca",
           "1",
           "Le Couvent",
           "-",
           "2012-10-18",
           1,
           "POINT (2.3470030000000000 48.8369190000000017)",
           2.347003,
           48.836919
          ],
          [
           75005,
           "111 rue mouffetard",
           "1",
           "La Brûlerie des Ternes",
           "-",
           "2012-10-18",
           1,
           "POINT (2.3497659999999998 48.8406239999999983)",
           2.349766,
           48.840624
          ],
          [
           75014,
           "59 Boulevard Saint-Jacques",
           "-",
           "L'Écir",
           "-",
           "2012-10-09",
           1,
           "POINT (2.3361160000000001 48.8328249999999997)",
           2.336116,
           48.832825
          ],
          [
           75012,
           "126, rue du Faubourg Saint Antoine",
           "-",
           "Le Chat bossu",
           "-",
           "2012-10-09",
           1,
           "POINT (2.3784169999999998 48.8506959999999992)",
           2.378417,
           48.850696
          ],
          [
           75014,
           "58 boulvevard Saint Jacques",
           "-",
           "Denfert café",
           "-",
           "2012-10-09",
           1,
           "POINT (2.3338100000000002 48.8341569999999976)",
           2.33381,
           48.834157
          ],
          [
           75002,
           "place de l'opera",
           "-",
           "L'Entracte",
           "-",
           "2012-10-09",
           1,
           "POINT (2.3322699999999998 48.8700570000000027)",
           2.33227,
           48.870057
          ],
          [
           75002,
           "95 rue Montmartre",
           "-",
           "Le Café frappé",
           "-",
           "2012-10-09",
           1,
           "POINT (2.3435820000000001 48.8679479999999984)",
           2.343582,
           48.867948
          ],
          [
           75003,
           "78 rue vieille du temple",
           "-",
           "La Perle",
           "-",
           "2012-10-09",
           1,
           "POINT (2.3605580000000002 48.8597719999999995)",
           2.360558,
           48.859772
          ],
          [
           75005,
           "1 rue Thouin",
           "-",
           "Le Descartes",
           "-",
           "2012-10-09",
           1,
           "POINT (2.3495830000000000 48.8450470000000010)",
           2.349583,
           48.845047
          ],
          [
           75014,
           "55 rue de la tombe Issoire",
           "-",
           "Le petit club",
           "-",
           "2012-03-07",
           1,
           "POINT (2.3342130000000001 48.8301510000000007)",
           2.334213,
           48.830151
          ],
          [
           75011,
           "90 avenue Parmentier",
           "-",
           "Le Plein soleil",
           "-",
           "2012-03-07",
           1,
           "POINT (2.3743820000000002 48.8657070000000004)",
           2.374382,
           48.865707
          ],
          [
           75008,
           "146, boulevard Haussmann",
           "-",
           "Le Relais Haussmann",
           "-",
           "2012-03-07",
           1,
           "POINT (2.3123290000000001 48.8753219999999970)",
           2.312329,
           48.875322
          ],
          [
           75007,
           "88 rue Saint-Dominique",
           "-",
           "Le Malar",
           "-",
           "2012-03-07",
           1,
           "POINT (2.3064300000000002 48.8595589999999973)",
           2.30643,
           48.859559
          ],
          [
           75020,
           "47 rue Belgrand",
           "-",
           "Au panini de la place",
           "-",
           "2012-03-07",
           1,
           "POINT (2.4080379999999999 48.8646280000000033)",
           2.408038,
           48.864628
          ],
          [
           75017,
           "182 rue de Courcelles",
           "-",
           "Le Village",
           "-",
           "2012-03-07",
           1,
           "POINT (2.2979780000000001 48.8843499999999977)",
           2.297978,
           48.88435
          ],
          [
           75011,
           "41 rue de Charonne",
           "-",
           "Pause Café",
           "-",
           "2012-03-07",
           1,
           "POINT (2.3767060000000000 48.8533809999999988)",
           2.376706,
           48.853381
          ],
          [
           75011,
           "14 rue Jean Macé",
           "-",
           "Le Pure café",
           "-",
           "2012-03-07",
           1,
           "POINT (2.3834149999999998 48.8532530000000023)",
           2.383415,
           48.853253
          ],
          [
           75011,
           "307 fg saint Antoine",
           "-",
           "Extra old café",
           "-",
           "2012-03-07",
           1,
           "POINT (2.3928590000000001 48.8488729999999975)",
           2.392859,
           48.848873
          ],
          [
           75010,
           "44 rue Vinaigriers",
           "-",
           "Chez Fafa",
           "-",
           "2012-03-07",
           1,
           "POINT (2.3607870000000002 48.8732270000000000)",
           2.360787,
           48.873227
          ],
          [
           75011,
           "3 rue Faidherbe",
           "-",
           "En attendant l'or",
           "-",
           "2012-06-27",
           1,
           "POINT (2.3840690000000002 48.8508360000000010)",
           2.384069,
           48.850836
          ],
          [
           75002,
           "30 rue des Petits-Champs",
           "-",
           "Brûlerie San José",
           "-",
           "2012-06-27",
           1,
           "POINT (2.3360059999999998 48.8669930000000008)",
           2.336006,
           48.866993
          ],
          [
           75001,
           "14 rue Turbigo, Paris",
           "-",
           "Etienne",
           "-",
           "2012-06-27",
           1,
           "POINT (2.3487010000000001 48.8636750000000006)",
           2.348701,
           48.863675
          ],
          [
           75011,
           "184 bd Voltaire",
           "-",
           "L'ingénu",
           "-",
           "2012-06-27",
           1,
           "POINT (2.3851930000000001 48.8545840000000027)",
           2.385193,
           48.854584
          ],
          [
           75018,
           "8 rue L'Olive",
           "-",
           "L'Olive",
           "-",
           "2012-06-27",
           1,
           "POINT (2.3613490000000001 48.8906050000000008)",
           2.361349,
           48.890605
          ],
          [
           75002,
           "18 rue Favart",
           "-",
           "Le Biz",
           "-",
           "2012-06-27",
           1,
           "POINT (2.3383210000000001 48.8713959999999972)",
           2.338321,
           48.871396
          ],
          [
           75002,
           "1 rue Louis le Grand",
           "-",
           "Le Cap Bourbon",
           "-",
           "2012-06-27",
           1,
           "POINT (2.3317850000000000 48.8681089999999969)",
           2.331785,
           48.868109
          ],
          [
           75015,
           "9 Place du General Beuret",
           "-",
           "Le General Beuret",
           "-",
           "2012-06-27",
           1,
           "POINT (2.3030529999999998 48.8416700000000006)",
           2.303053,
           48.84167
          ],
          [
           75015,
           "95 avenue Emile Zola",
           "-",
           "Le Germinal",
           "-",
           "2012-06-27",
           1,
           "POINT (2.2893110000000001 48.8468140000000020)",
           2.289311,
           48.846814
          ],
          [
           75018,
           "72 rue lamarck",
           "-",
           "Le refuge",
           "-",
           "2012-06-27",
           1,
           "POINT (2.3389329999999999 48.8899820000000034)",
           2.338933,
           48.889982
          ],
          [
           75010,
           "13 rue du Faubourg Saint Denis",
           "-",
           "Le sully",
           "-",
           "2012-06-27",
           1,
           "POINT (2.3528210000000001 48.8702940000000012)",
           2.352821,
           48.870294
          ],
          [
           75015,
           "65 boulevard Pasteur",
           "-",
           "les montparnos",
           "-",
           "2012-06-27",
           1,
           "POINT (2.3146689999999999 48.8410110000000017)",
           2.314669,
           48.841011
          ],
          [
           75015,
           "60 rue des bergers",
           "-",
           "Le bal du pirate",
           "-",
           "2014-02-01",
           1,
           "POINT (2.2803740000000001 48.8421280000000024)",
           2.280374,
           48.842128
          ],
          [
           75012,
           "95 rue claude decaen",
           "-",
           "zic zinc",
           "-",
           "2014-02-01",
           1,
           "POINT (2.3960900000000001 48.8387689999999992)",
           2.39609,
           48.838769
          ],
          [
           75011,
           "35 rue de l'orillon",
           "-",
           "l'orillon bar",
           "-",
           "2014-02-01",
           1,
           "POINT (2.3763060000000000 48.8702469999999991)",
           2.376306,
           48.870247
          ],
          [
           75020,
           "116 Rue de Ménilmontant",
           "-",
           "Le Zazabar",
           "-",
           "2013-08-22",
           1,
           "POINT (2.3942470000000000 48.8698479999999975)",
           2.394247,
           48.869848
          ],
          [
           75005,
           "11 Quai de la Tournelle",
           "-",
           "Café rallye tournelles",
           "-",
           "2013-08-22",
           1,
           "POINT (2.3553350000000002 48.8498209999999986)",
           2.355335,
           48.849821
          ],
          [
           75005,
           "22 rue Linné",
           "-",
           "L'Inévitable",
           "-",
           "2013-08-22",
           1,
           "POINT (2.3547959999999999 48.8454580000000007)",
           2.354796,
           48.845458
          ],
          [
           75002,
           "1 Passage du Grand Cerf",
           "-",
           "Le Pas Sage",
           "-",
           "2013-08-22",
           1,
           "POINT (2.3495590000000002 48.8647390000000001)",
           2.349559,
           48.864739
          ],
          [
           75013,
           "77 rue Dunois",
           "-",
           "Le Dunois",
           "-",
           "2013-08-22",
           1,
           "POINT (2.3657819999999998 48.8333599999999990)",
           2.365782,
           48.83336
          ],
          [
           75013,
           "48 rue du Dessous des Berges",
           "1",
           "Le Caminito",
           null,
           "2012-10-22",
           1,
           "POINT (2.3745710000000000 48.8266080000000002)",
           2.374571,
           48.826608
          ],
          [
           75010,
           "55bis quai de Valmy",
           "1",
           "Epicerie Musicale",
           "-",
           "2012-10-22",
           1,
           "POINT (2.3654130000000002 48.8705980000000011)",
           2.365413,
           48.870598
          ],
          [
           75008,
           "27 rue de Penthièvre",
           "1",
           "O'Breizh",
           "-",
           "2012-10-22",
           1,
           "POINT (2.3152130000000000 48.8726619999999983)",
           2.315213,
           48.872662
          ],
          [
           75011,
           "104 rue amelot",
           "1",
           "Le Centenaire",
           "-",
           "2012-10-22",
           1,
           "POINT (2.3674270000000002 48.8625749999999996)",
           2.367427,
           48.862575
          ],
          [
           75005,
           "13 Rue du Pot de Fer",
           "1",
           "La Montagne Sans Geneviève",
           "-",
           "2012-10-22",
           "nan",
           "POINT (2.3483139999999998 48.8428329999999988)",
           2.348314,
           48.842833
          ],
          [
           75020,
           "46 rue de Buzenval",
           "1",
           "Les Pères Populaires",
           "-",
           "2012-10-18",
           1,
           "POINT (2.4017100000000000 48.8513250000000028)",
           2.40171,
           48.851325
          ],
          [
           75007,
           "188 rue de Grenelle",
           "-",
           "Cafe de grenelle",
           "-",
           "2012-10-09",
           1,
           "POINT (2.3056130000000001 48.8576580000000007)",
           2.305613,
           48.857658
          ],
          [
           75009,
           "73 rue de la Victoire",
           "-",
           "Le relais de la victoire",
           "-",
           "2012-10-09",
           1,
           "POINT (2.3329439999999999 48.8752070000000032)",
           2.332944,
           48.875207
          ],
          [
           75018,
           "216, rue Marcadet",
           "-",
           "Le Brio",
           "-",
           "2012-03-07",
           1,
           "POINT (2.3336500000000000 48.8918820000000025)",
           2.33365,
           48.891882
          ],
          [
           75017,
           "22 rue des Dames",
           "-",
           "Caves populaires",
           "-",
           "2012-03-07",
           1,
           "POINT (2.3246479999999998 48.8847530000000035)",
           2.324648,
           48.884753
          ],
          [
           75014,
           "12 avenue Jean Moulin",
           "-",
           "Caprice café",
           "-",
           "2012-03-07",
           1,
           "POINT (2.3256519999999998 48.8274279999999976)",
           2.325652,
           48.827428
          ],
          [
           75013,
           "7 rue Clisson",
           "-",
           "Tamm Bara",
           "-",
           "2012-03-07",
           1,
           "POINT (2.3692660000000001 48.8329639999999969)",
           2.369266,
           48.832964
          ],
          [
           75011,
           "93, rue de la Roquette",
           "-",
           "L'horizon",
           "-",
           "2012-03-07",
           1,
           "POINT (2.3790550000000001 48.8573110000000028)",
           2.379055,
           48.857311
          ],
          [
           75009,
           "1 rue de Montholon",
           "-",
           "L'anjou",
           "-",
           "2012-03-07",
           1,
           "POINT (2.3484140000000000 48.8765769999999975)",
           2.348414,
           48.876577
          ],
          [
           75005,
           "10 rue d\"Ulm",
           "-",
           "Waikiki",
           "-",
           "2012-03-07",
           1,
           "POINT (2.3454130000000002 48.8448539999999980)",
           2.345413,
           48.844854
          ],
          [
           75010,
           "36 rue Beaurepaire",
           "-",
           "Chez Prune",
           "-",
           "2012-03-07",
           1,
           "POINT (2.3644989999999999 48.8715759999999975)",
           2.364499,
           48.871576
          ],
          [
           75014,
           "21 rue Boulard",
           "-",
           "Au Vin Des Rues",
           "-",
           "2012-06-27",
           1,
           "POINT (2.3290459999999999 48.8338630000000009)",
           2.329046,
           48.833863
          ],
          [
           75015,
           "14 rue d'alleray",
           "-",
           "bistrot les timbrés",
           "-",
           "2012-06-27",
           1,
           "POINT (2.3011659999999998 48.8381370000000032)",
           2.301166,
           48.838137
          ],
          [
           75008,
           "9 rue de Miromesnil",
           "-",
           "Café beauveau",
           "-",
           "2012-06-27",
           1,
           "POINT (2.3159850000000000 48.8717990000000029)",
           2.315985,
           48.871799
          ],
          [
           75001,
           "9 rue des petits champs",
           "-",
           "Café Pistache",
           "-",
           "2012-06-27",
           1,
           "POINT (2.3387389999999999 48.8662589999999994)",
           2.338739,
           48.866259
          ],
          [
           75012,
           "28 bis boulevard Diderot",
           "-",
           "Le Killy Jen",
           "-",
           "2012-06-27",
           1,
           "POINT (2.3755430000000000 48.8459100000000035)",
           2.375543,
           48.84591
          ],
          [
           75015,
           "106 rue Lecourbe",
           "-",
           "Les Artisans",
           "-",
           "2012-06-27",
           1,
           "POINT (2.3031730000000001 48.8428680000000028)",
           2.303173,
           48.842868
          ],
          [
           75001,
           "83 avenue de Wagram",
           "-",
           "Peperoni",
           "-",
           "2012-06-27",
           1,
           "POINT (2.3342209999999999 48.8656659999999974)",
           2.334221,
           48.865666
          ],
          [
           75015,
           "380 rue de vaugirard",
           "-",
           "le lutece",
           "-",
           "2014-02-01",
           1,
           "POINT (2.2888340000000000 48.8331459999999993)",
           2.288834,
           48.833146
          ],
          [
           75018,
           "16 rue Ganneron",
           "-",
           "Brasiloja",
           "-",
           "2014-02-01",
           1,
           "POINT (2.3274290000000000 48.8864310000000017)",
           2.327429,
           48.886431
          ],
          [
           75004,
           "16 rue de Rivoli",
           "-",
           "Rivolux",
           "-",
           "2014-02-01",
           1,
           "POINT (2.3594909999999998 48.8557109999999994)",
           2.359491,
           48.855711
          ],
          [
           75012,
           "21 Bis Boulevard Diderot",
           "-",
           "L'européen",
           "-",
           "2013-08-22",
           1,
           "POINT (2.3727659999999999 48.8458979999999983)",
           2.372766,
           48.845898
          ],
          [
           75003,
           "39 rue Notre Dame de Nazareth",
           "-",
           "NoMa",
           "-",
           "2013-08-22",
           1,
           "POINT (2.3577910000000002 48.8674650000000028)",
           2.357791,
           48.867465
          ],
          [
           75020,
           "1 Rue des Envierges",
           "-",
           "O'Paris",
           "-",
           "2013-08-22",
           1,
           "POINT (2.3858579999999998 48.8715949999999992)",
           2.385858,
           48.871595
          ],
          [
           75010,
           "16 avenue Richerand",
           "-",
           "Café Clochette",
           "-",
           "2013-08-22",
           1,
           "POINT (2.3665319999999999 48.8724020000000010)",
           2.366532,
           48.872402
          ],
          [
           75011,
           "40 Boulevard Beaumarchais",
           "-",
           "La cantoche de Paname",
           "-",
           "2013-08-22",
           0,
           "POINT (2.3685740000000002 48.8565839999999980)",
           2.368574,
           48.856584
          ],
          [
           75020,
           "148 Boulevard de Charonne",
           "-",
           "Le Saint René",
           "-",
           "2013-08-22",
           1,
           "POINT (2.3948740000000002 48.8564959999999999)",
           2.394874,
           48.856496
          ],
          [
           75012,
           "196 rue du faubourg saint-antoine",
           "1",
           "La Liberté",
           "-",
           "2012-10-22",
           1,
           "POINT (2.3839079999999999 48.8500549999999976)",
           2.383908,
           48.850055
          ],
          [
           75002,
           "16 rue des Petits Champs",
           "1",
           "Chez Rutabaga",
           "-",
           "2012-10-22",
           1,
           "POINT (2.3371599999999999 48.8667370000000005)",
           2.33716,
           48.866737
          ],
          [
           75017,
           "2 rue Lemercier",
           "1",
           "Le BB (Bouchon des Batignolles)",
           "-",
           "2012-10-22",
           1,
           "POINT (2.3253249999999999 48.8853670000000022)",
           2.325325,
           48.885367
          ],
          [
           75009,
           "10 rue Rossini",
           "1",
           "La Brocante",
           "-",
           "2012-10-22",
           1,
           "POINT (2.3391929999999999 48.8731750000000034)",
           2.339193,
           48.873175
          ],
          [
           75002,
           "23 rue saint augustin",
           "1",
           "Le Petit Choiseul",
           "-",
           "2012-10-22",
           1,
           "POINT (2.3360550000000000 48.8688459999999978)",
           2.336055,
           48.868846
          ],
          [
           75014,
           "3 rue Gaîté",
           "1",
           "Le Plomb du cantal",
           "-",
           "2012-10-22",
           1,
           "POINT (2.3245890000000000 48.8407709999999966)",
           2.324589,
           48.840771
          ],
          [
           75017,
           "22 rue des Dames",
           "1",
           "Les caves populaires",
           "-",
           "2012-10-22",
           1,
           "POINT (2.3246479999999998 48.8847530000000035)",
           2.324648,
           48.884753
          ],
          [
           75020,
           "108 rue de Ménilmontant",
           "-",
           "Chez Luna",
           "-",
           "2012-10-09",
           1,
           "POINT (2.3933900000000001 48.8695189999999968)",
           2.39339,
           48.869519
          ],
          [
           75019,
           "1 rue du Plateau",
           "-",
           "Le bar Fleuri",
           "-",
           "2012-03-07",
           1,
           "POINT (2.3853650000000002 48.8779030000000034)",
           2.385365,
           48.877903
          ],
          [
           75017,
           "101 rue des dames",
           "-",
           "Trois pièces cuisine",
           "-",
           "2012-03-07",
           1,
           "POINT (2.3180900000000002 48.8829390000000004)",
           2.31809,
           48.882939
          ],
          [
           75017,
           "Place de Clichy",
           "-",
           "Bagels & Coffee Corner",
           "-",
           "2012-03-07",
           1,
           "POINT (2.3268730000000000 48.8837469999999996)",
           2.326873,
           48.883747
          ],
          [
           75015,
           "61 avenue de la Motte Picquet",
           "-",
           "Le Zinc",
           "-",
           "2012-03-07",
           1,
           "POINT (2.2988550000000001 48.8494969999999995)",
           2.298855,
           48.849497
          ],
          [
           75010,
           "136 rue du Faubourg poissonnière",
           "-",
           "La cantine de Zoé",
           "-",
           "2012-03-07",
           1,
           "POINT (2.3499639999999999 48.8806689999999975)",
           2.349964,
           48.880669
          ],
          [
           75007,
           "2 rue Robert Esnault Pelterie",
           "-",
           "Café dans l'aerogare Air France Invalides",
           "-",
           "2012-03-07",
           1,
           "POINT (2.3149099999999998 48.8610740000000021)",
           2.31491,
           48.861074
          ],
          [
           75006,
           "6/8 rue Stanislas",
           "-",
           "Les Vendangeurs",
           "-",
           "2012-03-07",
           1,
           "POINT (2.3284020000000001 48.8440569999999994)",
           2.328402,
           48.844057
          ],
          [
           75006,
           "3 carrefour de l'Odéon",
           "-",
           "L'avant comptoir",
           "-",
           "2012-03-07",
           1,
           "POINT (2.3387790000000002 48.8520529999999980)",
           2.338779,
           48.852053
          ],
          [
           75018,
           "1 rue Paul albert",
           "1",
           "Botak cafe",
           "1",
           "2012-03-07",
           1,
           "POINT (2.3449800000000001 48.8865040000000022)",
           2.34498,
           48.886504
          ],
          [
           75010,
           "67 rue du Château d'eau",
           "-",
           "le chateau d'eau",
           "-",
           "2012-03-07",
           1,
           "POINT (2.3545940000000001 48.8727220000000031)",
           2.354594,
           48.872722
          ],
          [
           75012,
           "58 rue du Fbg Saint-Antoine",
           "-",
           "Bistrot Saint-Antoine",
           "-",
           "2012-06-27",
           1,
           "POINT (2.3732289999999998 48.8519199999999998)",
           2.373229,
           48.85192
          ],
          [
           75004,
           "11/13 boulevard Beaumarchais",
           "-",
           "Chez Oscar",
           "-",
           "2012-06-27",
           1,
           "POINT (2.3684870000000000 48.8546850000000035)",
           2.368487,
           48.854685
          ],
          [
           75015,
           "172 rue de vaugirard",
           "-",
           "le 1 cinq",
           "-",
           "2012-06-27",
           1,
           "POINT (2.3109400000000000 48.8424600000000027)",
           2.31094,
           48.84246
          ],
          [
           75008,
           "63 rue de Ponthieu",
           "-",
           "Le Fronton",
           "-",
           "2012-06-27",
           1,
           "POINT (2.3044410000000002 48.8722599999999971)",
           2.304441,
           48.87226
          ],
          [
           75015,
           "48 avenue de la Motte Picquet",
           "-",
           "Le Piquet",
           "-",
           "2012-06-27",
           1,
           "POINT (2.3003779999999998 48.8509999999999991)",
           2.300378,
           48.851
          ],
          [
           75001,
           "202 rue Saint-Honoré",
           "-",
           "Le Ragueneau",
           "-",
           "2012-06-27",
           1,
           "POINT (2.3376100000000002 48.8626689999999968)",
           2.33761,
           48.862669
          ],
          [
           75005,
           "104 rue Mouffetard",
           "-",
           "Le Tournebride",
           "-",
           "2012-06-27",
           1,
           "POINT (2.3495650000000001 48.8410889999999966)",
           2.349565,
           48.841089
          ],
          [
           75014,
           "52 rue des plantes",
           "-",
           "maison du vin",
           "-",
           "2012-06-27",
           1,
           "POINT (2.3220740000000002 48.8287040000000019)",
           2.322074,
           48.828704
          ],
          [
           75012,
           "157 rue Bercy 75012 Paris",
           "-",
           "L'entrepôt",
           "-",
           "2014-02-01",
           1,
           "POINT (2.3759860000000002 48.8421459999999996)",
           2.375986,
           48.842146
          ],
          [
           75005,
           "place maubert",
           "-",
           "le ronsard",
           "-",
           "2014-02-01",
           1,
           "POINT (2.3489710000000001 48.8503540000000029)",
           2.348971,
           48.850354
          ],
          [
           75010,
           "61 rue du château d'eau",
           "-",
           "Brasserie le Morvan",
           "-",
           "2013-08-22",
           1,
           "POINT (2.3551359999999999 48.8724980000000002)",
           2.355136,
           48.872498
          ],
          [
           75019,
           "6 rue Mélingue",
           "1",
           "Chez Miamophile",
           "1",
           "2013-08-22",
           1,
           "POINT (2.3860640000000002 48.8748790000000000)",
           2.386064,
           48.874879
          ],
          [
           75011,
           "Rue de la Fontaine au Roi",
           "-",
           "La Caravane",
           "-",
           "2012-05-11",
           0,
           "POINT (2.3728989999999999 48.8681309999999982)",
           2.372899,
           48.868131
          ],
          [
           75011,
           "18 rue de Crussol",
           "-",
           "Panem",
           "-",
           "2012-05-11",
           0,
           "POINT (2.3685800000000001 48.8642690000000002)",
           2.36858,
           48.864269
          ],
          [
           75017,
           "47 rue de Batignolles",
           "-",
           "Petits Freres des Pauvres",
           "-",
           "2012-05-11",
           0,
           "POINT (2.3195910000000000 48.8856620000000035)",
           2.319591,
           48.885662
          ],
          [
           75015,
           "198 rue de la Convention",
           "-",
           "Café Dupont",
           "-",
           "2012-05-11",
           0,
           "POINT (2.2960460000000000 48.8372120000000010)",
           2.296046,
           48.837212
          ],
          [
           75008,
           "28 rue de Ponthieu",
           "1",
           "L'Angle",
           "-",
           "2012-10-22",
           1,
           "POINT (2.3087900000000001 48.8710019999999972)",
           2.30879,
           48.871002
          ],
          [
           75018,
           "19-23 rue Léon",
           "1",
           "Institut des Cultures d'Islam",
           "-",
           "2012-10-22",
           1,
           "POINT (2.3534670000000002 48.8880229999999969)",
           2.353467,
           48.888023
          ],
          [
           75018,
           "19 rue Pajol",
           "1",
           "Canopy Café associatif",
           "-",
           "2012-10-22",
           1,
           "POINT (2.3607809999999998 48.8860439999999983)",
           2.360781,
           48.886044
          ],
          [
           75003,
           "15 rue du Parc Royal",
           "-",
           "Le Sévigné",
           "-",
           "2012-10-09",
           1,
           "POINT (2.3627009999999999 48.8587089999999975)",
           2.362701,
           48.858709
          ],
          [
           75005,
           "35 rue Claude Bernard",
           "-",
           "Le Café d'avant",
           "-",
           "2012-10-09",
           1,
           "POINT (2.3472540000000000 48.8396869999999979)",
           2.347254,
           48.839687
          ],
          [
           75006,
           "53 rue Notre-Dame des Champs",
           "-",
           "Le Lucernaire",
           "-",
           "2012-10-09",
           1,
           "POINT (2.3304070000000001 48.8442440000000033)",
           2.330407,
           48.844244
          ],
          [
           75009,
           "12 rue Blanche",
           "-",
           "Le Brigadier",
           "-",
           "2012-10-09",
           1,
           "POINT (2.3321109999999998 48.8775989999999965)",
           2.332111,
           48.877599
          ],
          [
           75013,
           "26 rue du Docteur Magnan",
           "-",
           "L'âge d'or",
           "-",
           "2012-03-07",
           1,
           "POINT (2.3599869999999998 48.8264939999999967)",
           2.359987,
           48.826494
          ],
          [
           75018,
           "12 rue Armand Carrel",
           "-",
           "Le Chaumontois",
           "-",
           "2012-03-07",
           1,
           "POINT (2.3330210000000000 48.8894760000000019)",
           2.333021,
           48.889476
          ],
          [
           75015,
           "10 boulevard Victor",
           "-",
           "Café Victor",
           "-",
           "2012-03-07",
           1,
           "POINT (2.2785009999999999 48.8358429999999970)",
           2.278501,
           48.835843
          ],
          [
           75012,
           "54, avenue Daumesnil",
           "-",
           "L'empreinte",
           "-",
           "2012-03-07",
           1,
           "POINT (2.3790239999999998 48.8453370000000007)",
           2.379024,
           48.845337
          ],
          [
           75012,
           "34 bis rue de Wattignies",
           "-",
           "Au pays de Vannes",
           "-",
           "2012-06-27",
           1,
           "POINT (2.3957229999999998 48.8358780000000010)",
           2.395723,
           48.835878
          ],
          [
           75001,
           "2 place Martin Nadaud",
           "-",
           "Café Martin",
           "-",
           "2012-06-27",
           1,
           "POINT (2.3423029999999998 48.8568220000000011)",
           2.342303,
           48.856822
          ],
          [
           75007,
           "36 rue de Varenne",
           "-",
           "Café Varenne",
           "-",
           "2012-06-27",
           1,
           "POINT (2.3235389999999998 48.8541299999999978)",
           2.323539,
           48.85413
          ],
          [
           75004,
           "125 Rue Saint-Antoine",
           "-",
           "l'Eléphant du nil",
           "-",
           "2012-06-27",
           1,
           "POINT (2.3602180000000001 48.8551610000000025)",
           2.360218,
           48.855161
          ],
          [
           75020,
           "13 Rue Jean-Baptiste Dumay",
           "-",
           "La Cagnotte",
           "-",
           "2012-06-27",
           1,
           "POINT (2.3878029999999999 48.8743830000000017)",
           2.387803,
           48.874383
          ],
          [
           75015,
           "354 bis rue Vaugirard",
           "-",
           "Le Comptoir",
           "-",
           "2012-06-27",
           1,
           "POINT (2.2929610000000000 48.8357000000000028)",
           2.292961,
           48.8357
          ],
          [
           75015,
           "358 rue de Vaugirard",
           "-",
           "Le Parc Vaugirard",
           "-",
           "2012-06-27",
           1,
           "POINT (2.2925149999999999 48.8354509999999991)",
           2.292515,
           48.835451
          ],
          [
           75014,
           "58 rue Daguerre",
           "-",
           "le Zango",
           "-",
           "2012-06-27",
           1,
           "POINT (2.3270070000000000 48.8349720000000005)",
           2.327007,
           48.834972
          ],
          [
           75020,
           "3 rue de Lagny",
           "-",
           "Melting Pot",
           "-",
           "2012-06-27",
           1,
           "POINT (2.3999720000000000 48.8488869999999977)",
           2.399972,
           48.848887
          ],
          [
           75017,
           "174 avenue de Clichy",
           "-",
           "Pari's Café",
           "-",
           "2012-06-27",
           1,
           "POINT (2.3173590000000002 48.8923660000000027)",
           2.317359,
           48.892366
          ]
         ],
         "index": [
          0,
          1,
          2,
          3,
          4,
          5,
          6,
          7,
          8,
          9,
          10,
          11,
          12,
          13,
          14,
          15,
          16,
          17,
          18,
          19,
          20,
          21,
          22,
          23,
          24,
          25,
          26,
          27,
          28,
          29,
          30,
          31,
          32,
          33,
          34,
          35,
          36,
          37,
          38,
          39,
          40,
          41,
          42,
          43,
          44,
          45,
          46,
          47,
          48,
          49,
          50,
          51,
          52,
          53,
          54,
          55,
          56,
          57,
          58,
          59,
          60,
          61,
          62,
          63,
          64,
          65,
          66,
          67,
          68,
          69,
          70,
          71,
          72,
          73,
          74,
          75,
          76,
          77,
          78,
          79,
          80,
          81,
          82,
          83,
          84,
          85,
          86,
          87,
          88,
          89,
          90,
          91,
          92,
          93,
          95,
          96,
          97,
          98,
          99,
          100,
          102,
          103,
          104,
          105,
          106,
          107,
          108,
          109,
          110,
          111,
          112,
          113,
          114,
          115,
          116,
          117,
          118,
          119,
          120,
          121,
          122,
          123,
          124,
          125,
          126,
          127,
          128,
          129,
          130,
          131,
          132,
          133,
          134,
          135,
          136,
          137,
          138,
          139,
          140,
          141,
          142,
          143,
          144,
          145,
          146,
          147,
          148,
          149,
          150,
          151,
          152,
          153,
          154,
          155,
          156,
          157,
          158,
          159,
          160,
          161,
          162,
          163,
          164,
          165,
          166,
          167,
          168,
          169,
          170,
          171,
          172,
          173,
          174,
          175,
          176,
          177,
          178,
          179,
          180
         ]
        },
        "unnamed": {
         "columns": [
          "arrondissement",
          "adresse",
          "prix_salle",
          "nom_du_cafe",
          "prix_terasse",
          "date",
          "prix_comptoir",
          "geometry"
         ],
         "data": [
          [
           75015,
           "344Vrue Vaugirard",
           "-",
           "Coffee Chope",
           "-",
           "2014-02-01",
           1,
           "POINT (2.3024160000000000 48.8396949999999990)"
          ],
          [
           75010,
           "5, rue d'Alsace",
           "-",
           "Extérieur Quai",
           "-",
           "2014-02-01",
           1,
           "POINT (2.3576009999999998 48.8767369999999985)"
          ],
          [
           75004,
           "6 Bd henri IV",
           "-",
           "Le Sully",
           "-",
           "2014-02-01",
           1,
           "POINT (2.3620290000000002 48.8508520000000033)"
          ],
          [
           75018,
           "53 rue du ruisseau",
           "-",
           "O q de poule",
           "1",
           "2013-08-22",
           1,
           "POINT (2.3402710000000000 48.8935170000000028)"
          ],
          [
           75018,
           "112 Rue Championnet",
           "-",
           "La Renaissance",
           "-",
           "2013-08-22",
           1,
           "POINT (2.3397120000000000 48.8958250000000021)"
          ],
          [
           75001,
           "202 rue Saint Honoré",
           "-",
           "Ragueneau",
           "-",
           "2012-05-11",
           1,
           "POINT (2.3376100000000002 48.8626689999999968)"
          ],
          [
           75009,
           "51 Rue Victoire",
           "1",
           "Le chantereine",
           "-",
           "2012-10-22",
           1,
           "POINT (2.3355359999999998 48.8751549999999995)"
          ],
          [
           75018,
           "11 rue Feutrier",
           "1",
           "Le Müller",
           "-",
           "2012-10-22",
           1,
           "POINT (2.3465250000000002 48.8865359999999995)"
          ],
          [
           75015,
           "21 rue Copreaux",
           "1",
           "Le drapeau de la fidelité",
           "-",
           "2012-10-22",
           1,
           "POINT (2.3071169999999999 48.8414939999999973)"
          ],
          [
           75015,
           "125 rue Blomet",
           "1",
           "Le café des amis",
           "-",
           "2012-10-22",
           1,
           "POINT (2.2968980000000001 48.8397429999999986)"
          ],
          [
           75004,
           "10 rue Saint Martin",
           "-",
           "Le Café Livres",
           "-",
           "2012-10-09",
           1,
           "POINT (2.3496410000000001 48.8577280000000016)"
          ],
          [
           75007,
           "46 avenue Bosquet",
           "-",
           "Le Bosquet",
           "-",
           "2012-10-09",
           1,
           "POINT (2.3045700000000000 48.8560030000000012)"
          ],
          [
           75013,
           "34 avenue Pierre Mendès-France",
           "-",
           "Le Kleemend's",
           "-",
           "2012-03-07",
           1,
           "POINT (2.3704779999999999 48.8385210000000001)"
          ],
          [
           75012,
           "202 rue du faubourg st antoine",
           "-",
           "Café Pierre",
           "-",
           "2012-03-07",
           1,
           "POINT (2.3853420000000001 48.8498609999999971)"
          ],
          [
           75008,
           "61 rue de Ponthieu",
           "-",
           "Les Arcades",
           "-",
           "2012-03-07",
           1,
           "POINT (2.3046240000000000 48.8722020000000015)"
          ],
          [
           75007,
           "31 rue Saint-Dominique",
           "-",
           "Le Square",
           "-",
           "2012-03-07",
           1,
           "POINT (2.3203149999999999 48.8590310000000017)"
          ],
          [
           75012,
           "75, avenue Ledru-Rollin",
           "-",
           "Assaporare Dix sur Dix",
           "-",
           "2012-06-27",
           1,
           "POINT (2.3746299999999998 48.8500919999999965)"
          ],
          [
           75002,
           "129 boulevard sebastopol",
           "-",
           "Au cerceau d'or",
           "-",
           "2012-06-27",
           1,
           "POINT (2.3533130000000000 48.8680499999999967)"
          ],
          [
           75012,
           "21 ter boulevard Diderot",
           "-",
           "Aux cadrans",
           "-",
           "2012-06-27",
           1,
           "POINT (2.3730509999999998 48.8459270000000032)"
          ],
          [
           75016,
           "17 rue Jean de la Fontaine",
           "-",
           "Café antoine",
           "-",
           "2012-06-27",
           1,
           "POINT (2.2738830000000001 48.8516619999999975)"
          ],
          [
           75008,
           "rue de Lisbonne",
           "-",
           "Café de la Mairie (du VIII)",
           "-",
           "2012-06-27",
           1,
           "POINT (2.3126880000000001 48.8775779999999997)"
          ],
          [
           75005,
           "5 rue Claude Bernard",
           "-",
           "Café Lea",
           "-",
           "2012-06-27",
           1,
           "POINT (2.3499159999999999 48.8386330000000015)"
          ],
          [
           75005,
           "11 boulevard Saint-Germain",
           "-",
           "Cardinal Saint-Germain",
           "-",
           "2012-06-27",
           1,
           "POINT (2.3544860000000001 48.8492930000000030)"
          ],
          [
           75002,
           "52 rue Notre-Dame des Victoires",
           "-",
           "Dédé la frite",
           "-",
           "2012-06-27",
           1,
           "POINT (2.3425120000000001 48.8697659999999985)"
          ],
          [
           75015,
           "36 rue du hameau",
           "-",
           "La Bauloise",
           "-",
           "2012-06-27",
           1,
           "POINT (2.2873450000000002 48.8340510000000023)"
          ],
          [
           75019,
           "71 quai de Seine",
           "-",
           "Le Bellerive",
           "-",
           "2012-06-27",
           1,
           "POINT (2.3773870000000001 48.8881650000000008)"
          ],
          [
           75001,
           "42 rue coquillère",
           "-",
           "Le bistrot de Maëlle et Augustin",
           "-",
           "2012-06-27",
           1,
           "POINT (2.3409970000000002 48.8645429999999976)"
          ],
          [
           75009,
           "14 rue Rougemont",
           "-",
           "Le Dellac",
           "-",
           "2012-06-27",
           1,
           "POINT (2.3461609999999999 48.8721030000000027)"
          ],
          [
           75004,
           "1 rue Pecquay",
           "-",
           "Le Felteu",
           "-",
           "2012-06-27",
           1,
           "POINT (2.3555980000000001 48.8596450000000004)"
          ],
          [
           75001,
           "2 bis quai de la mégisserie",
           "-",
           "Le Reynou",
           "-",
           "2012-06-27",
           1,
           "POINT (2.3461010000000000 48.8576300000000003)"
          ],
          [
           75018,
           "23 rue des abbesses",
           "-",
           "Le Saint Jean",
           "-",
           "2012-06-27",
           1,
           "POINT (2.3377340000000002 48.8846459999999965)"
          ],
          [
           75006,
           "16 rue DE MEZIERES",
           "-",
           "L'antre d'eux",
           "-",
           "2014-02-01",
           1,
           "POINT (2.3303900000000000 48.8503230000000030)"
          ],
          [
           75002,
           "58 rue de Montorgueil",
           "-",
           "Drole d'endroit pour une rencontre",
           "-",
           "2014-02-01",
           1,
           "POINT (2.3469380000000002 48.8649569999999969)"
          ],
          [
           75018,
           "104 rue caulaincourt",
           "-",
           "Le pari's café",
           "-",
           "2014-02-01",
           1,
           "POINT (2.3397350000000001 48.8895649999999975)"
          ],
          [
           75011,
           "60 rue saint-sabin",
           "-",
           "Le Poulailler",
           "-",
           "2014-02-01",
           1,
           "POINT (2.3688709999999999 48.8591150000000027)"
          ],
          [
           75012,
           "33 Cour Saint Emilion",
           "-",
           "Chai 33",
           "-",
           "2014-02-01",
           1,
           "POINT (2.3860399999999999 48.8335950000000025)"
          ],
          [
           75011,
           "99 rue Jean-Pierre Timbaud",
           "-",
           "L'Assassin",
           "-",
           "2014-02-01",
           1,
           "POINT (2.3799690000000000 48.8687410000000000)"
          ],
          [
           75020,
           "1 rue d'Avron",
           "-",
           "l'Usine",
           "-",
           "2014-02-01",
           1,
           "POINT (2.3986909999999999 48.8514630000000025)"
          ],
          [
           75018,
           "52 rue Liebniz",
           "-",
           "La Bricole",
           "-",
           "2014-02-01",
           1,
           "POINT (2.3328980000000001 48.8963049999999981)"
          ],
          [
           75003,
           "82 rue des archives",
           "-",
           "Face Bar",
           "-",
           "2014-02-01",
           1,
           "POINT (2.3603999999999998 48.8630380000000031)"
          ],
          [
           75003,
           "Place de la République",
           "-",
           "Le café Monde et Médias",
           "-",
           "2013-08-22",
           1,
           "POINT (2.3634830000000000 48.8669760000000011)"
          ],
          [
           75010,
           "49 rue bichat",
           "-",
           "American Kitchen",
           "-",
           "2013-08-22",
           1,
           "POINT (2.3663919999999998 48.8727459999999994)"
          ],
          [
           75010,
           "55 bis quai de valmy",
           "-",
           "La Marine",
           "-",
           "2013-08-22",
           1,
           "POINT (2.3654130000000002 48.8705980000000011)"
          ],
          [
           75017,
           "21 avenue Brochant",
           "-",
           "Le Bloc",
           "-",
           "2013-08-22",
           1,
           "POINT (2.3180010000000002 48.8891009999999966)"
          ],
          [
           75020,
           "229 avenue Gambetta",
           "-",
           "La Recoleta au Manoir",
           "-",
           "2013-08-22",
           1,
           "POINT (2.4054210000000000 48.8746969999999976)"
          ],
          [
           75015,
           "80 Rue Saint-Charles",
           "-",
           "Le Pareloup",
           "-",
           "2013-08-22",
           0,
           "POINT (2.2860779999999998 48.8473439999999997)"
          ],
          [
           75014,
           "3 rue de la Gaité",
           "-",
           "La Brasserie Gaité",
           "1",
           "2013-08-22",
           "nan",
           "POINT (2.3245890000000000 48.8407709999999966)"
          ],
          [
           75009,
           "46 rue Victoire",
           "-",
           "Café Zen",
           "-",
           "2012-05-11",
           1,
           "POINT (2.3360360000000000 48.8752319999999969)"
          ],
          [
           75005,
           "7 rue Epée de Bois",
           "1",
           "Invitez vous chez nous",
           "-",
           "2012-10-22",
           1,
           "POINT (2.3510119999999999 48.8415260000000018)"
          ],
          [
           75002,
           "142 Rue Saint-Denis 75002 Paris",
           "1",
           "La Cordonnerie",
           "-",
           "2012-10-22",
           1,
           "POINT (2.3505069999999999 48.8652500000000032)"
          ],
          [
           75018,
           "3, rue Baudelique",
           "1",
           "Le Supercoin",
           "-",
           "2012-10-22",
           1,
           "POINT (2.3469730000000002 48.8922439999999980)"
          ],
          [
           75018,
           "86 bis rue Riquet",
           "1",
           "Populettes",
           "-",
           "2012-10-22",
           1,
           "POINT (2.3622410000000000 48.8900429999999986)"
          ],
          [
           75018,
           "49 rue des Cloys",
           "1",
           "Au bon coin",
           "1",
           "2012-10-18",
           1,
           "POINT (2.3377759999999999 48.8930170000000004)"
          ],
          [
           75013,
           "69 rue Broca",
           "1",
           "Le Couvent",
           "-",
           "2012-10-18",
           1,
           "POINT (2.3470030000000000 48.8369190000000017)"
          ],
          [
           75005,
           "111 rue mouffetard",
           "1",
           "La Brûlerie des Ternes",
           "-",
           "2012-10-18",
           1,
           "POINT (2.3497659999999998 48.8406239999999983)"
          ],
          [
           75014,
           "59 Boulevard Saint-Jacques",
           "-",
           "L'Écir",
           "-",
           "2012-10-09",
           1,
           "POINT (2.3361160000000001 48.8328249999999997)"
          ],
          [
           75012,
           "126, rue du Faubourg Saint Antoine",
           "-",
           "Le Chat bossu",
           "-",
           "2012-10-09",
           1,
           "POINT (2.3784169999999998 48.8506959999999992)"
          ],
          [
           75014,
           "58 boulvevard Saint Jacques",
           "-",
           "Denfert café",
           "-",
           "2012-10-09",
           1,
           "POINT (2.3338100000000002 48.8341569999999976)"
          ],
          [
           75002,
           "place de l'opera",
           "-",
           "L'Entracte",
           "-",
           "2012-10-09",
           1,
           "POINT (2.3322699999999998 48.8700570000000027)"
          ],
          [
           75002,
           "95 rue Montmartre",
           "-",
           "Le Café frappé",
           "-",
           "2012-10-09",
           1,
           "POINT (2.3435820000000001 48.8679479999999984)"
          ],
          [
           75003,
           "78 rue vieille du temple",
           "-",
           "La Perle",
           "-",
           "2012-10-09",
           1,
           "POINT (2.3605580000000002 48.8597719999999995)"
          ],
          [
           75005,
           "1 rue Thouin",
           "-",
           "Le Descartes",
           "-",
           "2012-10-09",
           1,
           "POINT (2.3495830000000000 48.8450470000000010)"
          ],
          [
           75014,
           "55 rue de la tombe Issoire",
           "-",
           "Le petit club",
           "-",
           "2012-03-07",
           1,
           "POINT (2.3342130000000001 48.8301510000000007)"
          ],
          [
           75011,
           "90 avenue Parmentier",
           "-",
           "Le Plein soleil",
           "-",
           "2012-03-07",
           1,
           "POINT (2.3743820000000002 48.8657070000000004)"
          ],
          [
           75008,
           "146, boulevard Haussmann",
           "-",
           "Le Relais Haussmann",
           "-",
           "2012-03-07",
           1,
           "POINT (2.3123290000000001 48.8753219999999970)"
          ],
          [
           75007,
           "88 rue Saint-Dominique",
           "-",
           "Le Malar",
           "-",
           "2012-03-07",
           1,
           "POINT (2.3064300000000002 48.8595589999999973)"
          ],
          [
           75020,
           "47 rue Belgrand",
           "-",
           "Au panini de la place",
           "-",
           "2012-03-07",
           1,
           "POINT (2.4080379999999999 48.8646280000000033)"
          ],
          [
           75017,
           "182 rue de Courcelles",
           "-",
           "Le Village",
           "-",
           "2012-03-07",
           1,
           "POINT (2.2979780000000001 48.8843499999999977)"
          ],
          [
           75011,
           "41 rue de Charonne",
           "-",
           "Pause Café",
           "-",
           "2012-03-07",
           1,
           "POINT (2.3767060000000000 48.8533809999999988)"
          ],
          [
           75011,
           "14 rue Jean Macé",
           "-",
           "Le Pure café",
           "-",
           "2012-03-07",
           1,
           "POINT (2.3834149999999998 48.8532530000000023)"
          ],
          [
           75011,
           "307 fg saint Antoine",
           "-",
           "Extra old café",
           "-",
           "2012-03-07",
           1,
           "POINT (2.3928590000000001 48.8488729999999975)"
          ],
          [
           75010,
           "44 rue Vinaigriers",
           "-",
           "Chez Fafa",
           "-",
           "2012-03-07",
           1,
           "POINT (2.3607870000000002 48.8732270000000000)"
          ],
          [
           75011,
           "3 rue Faidherbe",
           "-",
           "En attendant l'or",
           "-",
           "2012-06-27",
           1,
           "POINT (2.3840690000000002 48.8508360000000010)"
          ],
          [
           75002,
           "30 rue des Petits-Champs",
           "-",
           "Brûlerie San José",
           "-",
           "2012-06-27",
           1,
           "POINT (2.3360059999999998 48.8669930000000008)"
          ],
          [
           75001,
           "14 rue Turbigo, Paris",
           "-",
           "Etienne",
           "-",
           "2012-06-27",
           1,
           "POINT (2.3487010000000001 48.8636750000000006)"
          ],
          [
           75011,
           "184 bd Voltaire",
           "-",
           "L'ingénu",
           "-",
           "2012-06-27",
           1,
           "POINT (2.3851930000000001 48.8545840000000027)"
          ],
          [
           75018,
           "8 rue L'Olive",
           "-",
           "L'Olive",
           "-",
           "2012-06-27",
           1,
           "POINT (2.3613490000000001 48.8906050000000008)"
          ],
          [
           75002,
           "18 rue Favart",
           "-",
           "Le Biz",
           "-",
           "2012-06-27",
           1,
           "POINT (2.3383210000000001 48.8713959999999972)"
          ],
          [
           75002,
           "1 rue Louis le Grand",
           "-",
           "Le Cap Bourbon",
           "-",
           "2012-06-27",
           1,
           "POINT (2.3317850000000000 48.8681089999999969)"
          ],
          [
           75015,
           "9 Place du General Beuret",
           "-",
           "Le General Beuret",
           "-",
           "2012-06-27",
           1,
           "POINT (2.3030529999999998 48.8416700000000006)"
          ],
          [
           75015,
           "95 avenue Emile Zola",
           "-",
           "Le Germinal",
           "-",
           "2012-06-27",
           1,
           "POINT (2.2893110000000001 48.8468140000000020)"
          ],
          [
           75018,
           "72 rue lamarck",
           "-",
           "Le refuge",
           "-",
           "2012-06-27",
           1,
           "POINT (2.3389329999999999 48.8899820000000034)"
          ],
          [
           75010,
           "13 rue du Faubourg Saint Denis",
           "-",
           "Le sully",
           "-",
           "2012-06-27",
           1,
           "POINT (2.3528210000000001 48.8702940000000012)"
          ],
          [
           75015,
           "65 boulevard Pasteur",
           "-",
           "les montparnos",
           "-",
           "2012-06-27",
           1,
           "POINT (2.3146689999999999 48.8410110000000017)"
          ],
          [
           75015,
           "60 rue des bergers",
           "-",
           "Le bal du pirate",
           "-",
           "2014-02-01",
           1,
           "POINT (2.2803740000000001 48.8421280000000024)"
          ],
          [
           75012,
           "95 rue claude decaen",
           "-",
           "zic zinc",
           "-",
           "2014-02-01",
           1,
           "POINT (2.3960900000000001 48.8387689999999992)"
          ],
          [
           75011,
           "35 rue de l'orillon",
           "-",
           "l'orillon bar",
           "-",
           "2014-02-01",
           1,
           "POINT (2.3763060000000000 48.8702469999999991)"
          ],
          [
           75020,
           "116 Rue de Ménilmontant",
           "-",
           "Le Zazabar",
           "-",
           "2013-08-22",
           1,
           "POINT (2.3942470000000000 48.8698479999999975)"
          ],
          [
           75005,
           "11 Quai de la Tournelle",
           "-",
           "Café rallye tournelles",
           "-",
           "2013-08-22",
           1,
           "POINT (2.3553350000000002 48.8498209999999986)"
          ],
          [
           75005,
           "22 rue Linné",
           "-",
           "L'Inévitable",
           "-",
           "2013-08-22",
           1,
           "POINT (2.3547959999999999 48.8454580000000007)"
          ],
          [
           75002,
           "1 Passage du Grand Cerf",
           "-",
           "Le Pas Sage",
           "-",
           "2013-08-22",
           1,
           "POINT (2.3495590000000002 48.8647390000000001)"
          ],
          [
           75013,
           "77 rue Dunois",
           "-",
           "Le Dunois",
           "-",
           "2013-08-22",
           1,
           "POINT (2.3657819999999998 48.8333599999999990)"
          ],
          [
           75013,
           "48 rue du Dessous des Berges",
           "1",
           "Le Caminito",
           null,
           "2012-10-22",
           1,
           "POINT (2.3745710000000000 48.8266080000000002)"
          ],
          [
           75010,
           "55bis quai de Valmy",
           "1",
           "Epicerie Musicale",
           "-",
           "2012-10-22",
           1,
           "POINT (2.3654130000000002 48.8705980000000011)"
          ],
          [
           75008,
           "27 rue de Penthièvre",
           "1",
           "O'Breizh",
           "-",
           "2012-10-22",
           1,
           "POINT (2.3152130000000000 48.8726619999999983)"
          ],
          [
           75011,
           "104 rue amelot",
           "1",
           "Le Centenaire",
           "-",
           "2012-10-22",
           1,
           "POINT (2.3674270000000002 48.8625749999999996)"
          ],
          [
           75005,
           "13 Rue du Pot de Fer",
           "1",
           "La Montagne Sans Geneviève",
           "-",
           "2012-10-22",
           "nan",
           "POINT (2.3483139999999998 48.8428329999999988)"
          ],
          [
           75020,
           "46 rue de Buzenval",
           "1",
           "Les Pères Populaires",
           "-",
           "2012-10-18",
           1,
           "POINT (2.4017100000000000 48.8513250000000028)"
          ],
          [
           75007,
           "188 rue de Grenelle",
           "-",
           "Cafe de grenelle",
           "-",
           "2012-10-09",
           1,
           "POINT (2.3056130000000001 48.8576580000000007)"
          ],
          [
           75009,
           "73 rue de la Victoire",
           "-",
           "Le relais de la victoire",
           "-",
           "2012-10-09",
           1,
           "POINT (2.3329439999999999 48.8752070000000032)"
          ],
          [
           75018,
           "216, rue Marcadet",
           "-",
           "Le Brio",
           "-",
           "2012-03-07",
           1,
           "POINT (2.3336500000000000 48.8918820000000025)"
          ],
          [
           75017,
           "22 rue des Dames",
           "-",
           "Caves populaires",
           "-",
           "2012-03-07",
           1,
           "POINT (2.3246479999999998 48.8847530000000035)"
          ],
          [
           75014,
           "12 avenue Jean Moulin",
           "-",
           "Caprice café",
           "-",
           "2012-03-07",
           1,
           "POINT (2.3256519999999998 48.8274279999999976)"
          ],
          [
           75013,
           "7 rue Clisson",
           "-",
           "Tamm Bara",
           "-",
           "2012-03-07",
           1,
           "POINT (2.3692660000000001 48.8329639999999969)"
          ],
          [
           75011,
           "93, rue de la Roquette",
           "-",
           "L'horizon",
           "-",
           "2012-03-07",
           1,
           "POINT (2.3790550000000001 48.8573110000000028)"
          ],
          [
           75009,
           "1 rue de Montholon",
           "-",
           "L'anjou",
           "-",
           "2012-03-07",
           1,
           "POINT (2.3484140000000000 48.8765769999999975)"
          ],
          [
           75005,
           "10 rue d\"Ulm",
           "-",
           "Waikiki",
           "-",
           "2012-03-07",
           1,
           "POINT (2.3454130000000002 48.8448539999999980)"
          ],
          [
           75010,
           "36 rue Beaurepaire",
           "-",
           "Chez Prune",
           "-",
           "2012-03-07",
           1,
           "POINT (2.3644989999999999 48.8715759999999975)"
          ],
          [
           75014,
           "21 rue Boulard",
           "-",
           "Au Vin Des Rues",
           "-",
           "2012-06-27",
           1,
           "POINT (2.3290459999999999 48.8338630000000009)"
          ],
          [
           75015,
           "14 rue d'alleray",
           "-",
           "bistrot les timbrés",
           "-",
           "2012-06-27",
           1,
           "POINT (2.3011659999999998 48.8381370000000032)"
          ],
          [
           75008,
           "9 rue de Miromesnil",
           "-",
           "Café beauveau",
           "-",
           "2012-06-27",
           1,
           "POINT (2.3159850000000000 48.8717990000000029)"
          ],
          [
           75001,
           "9 rue des petits champs",
           "-",
           "Café Pistache",
           "-",
           "2012-06-27",
           1,
           "POINT (2.3387389999999999 48.8662589999999994)"
          ],
          [
           75012,
           "28 bis boulevard Diderot",
           "-",
           "Le Killy Jen",
           "-",
           "2012-06-27",
           1,
           "POINT (2.3755430000000000 48.8459100000000035)"
          ],
          [
           75015,
           "106 rue Lecourbe",
           "-",
           "Les Artisans",
           "-",
           "2012-06-27",
           1,
           "POINT (2.3031730000000001 48.8428680000000028)"
          ],
          [
           75001,
           "83 avenue de Wagram",
           "-",
           "Peperoni",
           "-",
           "2012-06-27",
           1,
           "POINT (2.3342209999999999 48.8656659999999974)"
          ],
          [
           75015,
           "380 rue de vaugirard",
           "-",
           "le lutece",
           "-",
           "2014-02-01",
           1,
           "POINT (2.2888340000000000 48.8331459999999993)"
          ],
          [
           75018,
           "16 rue Ganneron",
           "-",
           "Brasiloja",
           "-",
           "2014-02-01",
           1,
           "POINT (2.3274290000000000 48.8864310000000017)"
          ],
          [
           75004,
           "16 rue de Rivoli",
           "-",
           "Rivolux",
           "-",
           "2014-02-01",
           1,
           "POINT (2.3594909999999998 48.8557109999999994)"
          ],
          [
           75012,
           "21 Bis Boulevard Diderot",
           "-",
           "L'européen",
           "-",
           "2013-08-22",
           1,
           "POINT (2.3727659999999999 48.8458979999999983)"
          ],
          [
           75003,
           "39 rue Notre Dame de Nazareth",
           "-",
           "NoMa",
           "-",
           "2013-08-22",
           1,
           "POINT (2.3577910000000002 48.8674650000000028)"
          ],
          [
           75020,
           "1 Rue des Envierges",
           "-",
           "O'Paris",
           "-",
           "2013-08-22",
           1,
           "POINT (2.3858579999999998 48.8715949999999992)"
          ],
          [
           75010,
           "16 avenue Richerand",
           "-",
           "Café Clochette",
           "-",
           "2013-08-22",
           1,
           "POINT (2.3665319999999999 48.8724020000000010)"
          ],
          [
           75011,
           "40 Boulevard Beaumarchais",
           "-",
           "La cantoche de Paname",
           "-",
           "2013-08-22",
           0,
           "POINT (2.3685740000000002 48.8565839999999980)"
          ],
          [
           75020,
           "148 Boulevard de Charonne",
           "-",
           "Le Saint René",
           "-",
           "2013-08-22",
           1,
           "POINT (2.3948740000000002 48.8564959999999999)"
          ],
          [
           75012,
           "196 rue du faubourg saint-antoine",
           "1",
           "La Liberté",
           "-",
           "2012-10-22",
           1,
           "POINT (2.3839079999999999 48.8500549999999976)"
          ],
          [
           75002,
           "16 rue des Petits Champs",
           "1",
           "Chez Rutabaga",
           "-",
           "2012-10-22",
           1,
           "POINT (2.3371599999999999 48.8667370000000005)"
          ],
          [
           75017,
           "2 rue Lemercier",
           "1",
           "Le BB (Bouchon des Batignolles)",
           "-",
           "2012-10-22",
           1,
           "POINT (2.3253249999999999 48.8853670000000022)"
          ],
          [
           75009,
           "10 rue Rossini",
           "1",
           "La Brocante",
           "-",
           "2012-10-22",
           1,
           "POINT (2.3391929999999999 48.8731750000000034)"
          ],
          [
           75002,
           "23 rue saint augustin",
           "1",
           "Le Petit Choiseul",
           "-",
           "2012-10-22",
           1,
           "POINT (2.3360550000000000 48.8688459999999978)"
          ],
          [
           75014,
           "3 rue Gaîté",
           "1",
           "Le Plomb du cantal",
           "-",
           "2012-10-22",
           1,
           "POINT (2.3245890000000000 48.8407709999999966)"
          ],
          [
           75017,
           "22 rue des Dames",
           "1",
           "Les caves populaires",
           "-",
           "2012-10-22",
           1,
           "POINT (2.3246479999999998 48.8847530000000035)"
          ],
          [
           75020,
           "108 rue de Ménilmontant",
           "-",
           "Chez Luna",
           "-",
           "2012-10-09",
           1,
           "POINT (2.3933900000000001 48.8695189999999968)"
          ],
          [
           75019,
           "1 rue du Plateau",
           "-",
           "Le bar Fleuri",
           "-",
           "2012-03-07",
           1,
           "POINT (2.3853650000000002 48.8779030000000034)"
          ],
          [
           75017,
           "101 rue des dames",
           "-",
           "Trois pièces cuisine",
           "-",
           "2012-03-07",
           1,
           "POINT (2.3180900000000002 48.8829390000000004)"
          ],
          [
           75017,
           "Place de Clichy",
           "-",
           "Bagels & Coffee Corner",
           "-",
           "2012-03-07",
           1,
           "POINT (2.3268730000000000 48.8837469999999996)"
          ],
          [
           75015,
           "61 avenue de la Motte Picquet",
           "-",
           "Le Zinc",
           "-",
           "2012-03-07",
           1,
           "POINT (2.2988550000000001 48.8494969999999995)"
          ],
          [
           75010,
           "136 rue du Faubourg poissonnière",
           "-",
           "La cantine de Zoé",
           "-",
           "2012-03-07",
           1,
           "POINT (2.3499639999999999 48.8806689999999975)"
          ],
          [
           75007,
           "2 rue Robert Esnault Pelterie",
           "-",
           "Café dans l'aerogare Air France Invalides",
           "-",
           "2012-03-07",
           1,
           "POINT (2.3149099999999998 48.8610740000000021)"
          ],
          [
           75006,
           "6/8 rue Stanislas",
           "-",
           "Les Vendangeurs",
           "-",
           "2012-03-07",
           1,
           "POINT (2.3284020000000001 48.8440569999999994)"
          ],
          [
           75006,
           "3 carrefour de l'Odéon",
           "-",
           "L'avant comptoir",
           "-",
           "2012-03-07",
           1,
           "POINT (2.3387790000000002 48.8520529999999980)"
          ],
          [
           75018,
           "1 rue Paul albert",
           "1",
           "Botak cafe",
           "1",
           "2012-03-07",
           1,
           "POINT (2.3449800000000001 48.8865040000000022)"
          ],
          [
           75010,
           "67 rue du Château d'eau",
           "-",
           "le chateau d'eau",
           "-",
           "2012-03-07",
           1,
           "POINT (2.3545940000000001 48.8727220000000031)"
          ],
          [
           75012,
           "58 rue du Fbg Saint-Antoine",
           "-",
           "Bistrot Saint-Antoine",
           "-",
           "2012-06-27",
           1,
           "POINT (2.3732289999999998 48.8519199999999998)"
          ],
          [
           75004,
           "11/13 boulevard Beaumarchais",
           "-",
           "Chez Oscar",
           "-",
           "2012-06-27",
           1,
           "POINT (2.3684870000000000 48.8546850000000035)"
          ],
          [
           75015,
           "172 rue de vaugirard",
           "-",
           "le 1 cinq",
           "-",
           "2012-06-27",
           1,
           "POINT (2.3109400000000000 48.8424600000000027)"
          ],
          [
           75008,
           "63 rue de Ponthieu",
           "-",
           "Le Fronton",
           "-",
           "2012-06-27",
           1,
           "POINT (2.3044410000000002 48.8722599999999971)"
          ],
          [
           75015,
           "48 avenue de la Motte Picquet",
           "-",
           "Le Piquet",
           "-",
           "2012-06-27",
           1,
           "POINT (2.3003779999999998 48.8509999999999991)"
          ],
          [
           75001,
           "202 rue Saint-Honoré",
           "-",
           "Le Ragueneau",
           "-",
           "2012-06-27",
           1,
           "POINT (2.3376100000000002 48.8626689999999968)"
          ],
          [
           75005,
           "104 rue Mouffetard",
           "-",
           "Le Tournebride",
           "-",
           "2012-06-27",
           1,
           "POINT (2.3495650000000001 48.8410889999999966)"
          ],
          [
           75014,
           "52 rue des plantes",
           "-",
           "maison du vin",
           "-",
           "2012-06-27",
           1,
           "POINT (2.3220740000000002 48.8287040000000019)"
          ],
          [
           75012,
           "157 rue Bercy 75012 Paris",
           "-",
           "L'entrepôt",
           "-",
           "2014-02-01",
           1,
           "POINT (2.3759860000000002 48.8421459999999996)"
          ],
          [
           75005,
           "place maubert",
           "-",
           "le ronsard",
           "-",
           "2014-02-01",
           1,
           "POINT (2.3489710000000001 48.8503540000000029)"
          ],
          [
           75010,
           "61 rue du château d'eau",
           "-",
           "Brasserie le Morvan",
           "-",
           "2013-08-22",
           1,
           "POINT (2.3551359999999999 48.8724980000000002)"
          ],
          [
           75019,
           "6 rue Mélingue",
           "1",
           "Chez Miamophile",
           "1",
           "2013-08-22",
           1,
           "POINT (2.3860640000000002 48.8748790000000000)"
          ],
          [
           75011,
           "Rue de la Fontaine au Roi",
           "-",
           "La Caravane",
           "-",
           "2012-05-11",
           0,
           "POINT (2.3728989999999999 48.8681309999999982)"
          ],
          [
           75011,
           "18 rue de Crussol",
           "-",
           "Panem",
           "-",
           "2012-05-11",
           0,
           "POINT (2.3685800000000001 48.8642690000000002)"
          ],
          [
           75017,
           "47 rue de Batignolles",
           "-",
           "Petits Freres des Pauvres",
           "-",
           "2012-05-11",
           0,
           "POINT (2.3195910000000000 48.8856620000000035)"
          ],
          [
           75015,
           "198 rue de la Convention",
           "-",
           "Café Dupont",
           "-",
           "2012-05-11",
           0,
           "POINT (2.2960460000000000 48.8372120000000010)"
          ],
          [
           75008,
           "28 rue de Ponthieu",
           "1",
           "L'Angle",
           "-",
           "2012-10-22",
           1,
           "POINT (2.3087900000000001 48.8710019999999972)"
          ],
          [
           75018,
           "19-23 rue Léon",
           "1",
           "Institut des Cultures d'Islam",
           "-",
           "2012-10-22",
           1,
           "POINT (2.3534670000000002 48.8880229999999969)"
          ],
          [
           75018,
           "19 rue Pajol",
           "1",
           "Canopy Café associatif",
           "-",
           "2012-10-22",
           1,
           "POINT (2.3607809999999998 48.8860439999999983)"
          ],
          [
           75003,
           "15 rue du Parc Royal",
           "-",
           "Le Sévigné",
           "-",
           "2012-10-09",
           1,
           "POINT (2.3627009999999999 48.8587089999999975)"
          ],
          [
           75005,
           "35 rue Claude Bernard",
           "-",
           "Le Café d'avant",
           "-",
           "2012-10-09",
           1,
           "POINT (2.3472540000000000 48.8396869999999979)"
          ],
          [
           75006,
           "53 rue Notre-Dame des Champs",
           "-",
           "Le Lucernaire",
           "-",
           "2012-10-09",
           1,
           "POINT (2.3304070000000001 48.8442440000000033)"
          ],
          [
           75009,
           "12 rue Blanche",
           "-",
           "Le Brigadier",
           "-",
           "2012-10-09",
           1,
           "POINT (2.3321109999999998 48.8775989999999965)"
          ],
          [
           75013,
           "26 rue du Docteur Magnan",
           "-",
           "L'âge d'or",
           "-",
           "2012-03-07",
           1,
           "POINT (2.3599869999999998 48.8264939999999967)"
          ],
          [
           75018,
           "12 rue Armand Carrel",
           "-",
           "Le Chaumontois",
           "-",
           "2012-03-07",
           1,
           "POINT (2.3330210000000000 48.8894760000000019)"
          ],
          [
           75015,
           "10 boulevard Victor",
           "-",
           "Café Victor",
           "-",
           "2012-03-07",
           1,
           "POINT (2.2785009999999999 48.8358429999999970)"
          ],
          [
           75012,
           "54, avenue Daumesnil",
           "-",
           "L'empreinte",
           "-",
           "2012-03-07",
           1,
           "POINT (2.3790239999999998 48.8453370000000007)"
          ],
          [
           75012,
           "34 bis rue de Wattignies",
           "-",
           "Au pays de Vannes",
           "-",
           "2012-06-27",
           1,
           "POINT (2.3957229999999998 48.8358780000000010)"
          ],
          [
           75001,
           "2 place Martin Nadaud",
           "-",
           "Café Martin",
           "-",
           "2012-06-27",
           1,
           "POINT (2.3423029999999998 48.8568220000000011)"
          ],
          [
           75007,
           "36 rue de Varenne",
           "-",
           "Café Varenne",
           "-",
           "2012-06-27",
           1,
           "POINT (2.3235389999999998 48.8541299999999978)"
          ],
          [
           75004,
           "125 Rue Saint-Antoine",
           "-",
           "l'Eléphant du nil",
           "-",
           "2012-06-27",
           1,
           "POINT (2.3602180000000001 48.8551610000000025)"
          ],
          [
           75020,
           "13 Rue Jean-Baptiste Dumay",
           "-",
           "La Cagnotte",
           "-",
           "2012-06-27",
           1,
           "POINT (2.3878029999999999 48.8743830000000017)"
          ],
          [
           75015,
           "354 bis rue Vaugirard",
           "-",
           "Le Comptoir",
           "-",
           "2012-06-27",
           1,
           "POINT (2.2929610000000000 48.8357000000000028)"
          ],
          [
           75015,
           "358 rue de Vaugirard",
           "-",
           "Le Parc Vaugirard",
           "-",
           "2012-06-27",
           1,
           "POINT (2.2925149999999999 48.8354509999999991)"
          ],
          [
           75014,
           "58 rue Daguerre",
           "-",
           "le Zango",
           "-",
           "2012-06-27",
           1,
           "POINT (2.3270070000000000 48.8349720000000005)"
          ],
          [
           75020,
           "3 rue de Lagny",
           "-",
           "Melting Pot",
           "-",
           "2012-06-27",
           1,
           "POINT (2.3999720000000000 48.8488869999999977)"
          ],
          [
           75017,
           "174 avenue de Clichy",
           "-",
           "Pari's Café",
           "-",
           "2012-06-27",
           1,
           "POINT (2.3173590000000002 48.8923660000000027)"
          ]
         ],
         "index": [
          0,
          1,
          2,
          3,
          4,
          5,
          6,
          7,
          8,
          9,
          10,
          11,
          12,
          13,
          14,
          15,
          16,
          17,
          18,
          19,
          20,
          21,
          22,
          23,
          24,
          25,
          26,
          27,
          28,
          29,
          30,
          31,
          32,
          33,
          34,
          35,
          36,
          37,
          38,
          39,
          40,
          41,
          42,
          43,
          44,
          45,
          46,
          47,
          48,
          49,
          50,
          51,
          52,
          53,
          54,
          55,
          56,
          57,
          58,
          59,
          60,
          61,
          62,
          63,
          64,
          65,
          66,
          67,
          68,
          69,
          70,
          71,
          72,
          73,
          74,
          75,
          76,
          77,
          78,
          79,
          80,
          81,
          82,
          83,
          84,
          85,
          86,
          87,
          88,
          89,
          90,
          91,
          92,
          93,
          95,
          96,
          97,
          98,
          99,
          100,
          102,
          103,
          104,
          105,
          106,
          107,
          108,
          109,
          110,
          111,
          112,
          113,
          114,
          115,
          116,
          117,
          118,
          119,
          120,
          121,
          122,
          123,
          124,
          125,
          126,
          127,
          128,
          129,
          130,
          131,
          132,
          133,
          134,
          135,
          136,
          137,
          138,
          139,
          140,
          141,
          142,
          143,
          144,
          145,
          146,
          147,
          148,
          149,
          150,
          151,
          152,
          153,
          154,
          155,
          156,
          157,
          158,
          159,
          160,
          161,
          162,
          163,
          164,
          165,
          166,
          167,
          168,
          169,
          170,
          171,
          172,
          173,
          174,
          175,
          176,
          177,
          178,
          179,
          180
         ]
        }
       },
       "height": 800,
       "layout": "IPY_MODEL_4cd83bb569eb44adbd1b9b1097ef78dc",
       "value": "Hello World!"
      }
     },
     "c246376088b344d3a97c900586700090": {
      "model_module": "@jupyter-widgets/base",
      "model_module_version": "1.2.0",
      "model_name": "LayoutModel",
      "state": {}
     },
     "c8c778a0e5094a0db7c3166afe750ed0": {
      "model_module": "@jupyter-widgets/base",
      "model_module_version": "1.2.0",
      "model_name": "LayoutModel",
      "state": {}
     },
     "cc8b4cb9b47b45369ca0b6cc8f783b86": {
      "model_module": "@jupyter-widgets/base",
      "model_module_version": "1.2.0",
      "model_name": "LayoutModel",
      "state": {}
     },
     "dc95974472954b148baef73a7b6b0842": {
      "model_module": "keplergl-jupyter",
      "model_module_version": "^0.1.0",
      "model_name": "KeplerGlModal",
      "state": {
       "_model_module_version": "^0.1.0",
       "_view_module_version": "^0.1.0",
       "config": {
        "config": {
         "mapState": {
          "bearing": 0,
          "dragRotate": false,
          "isSplit": false,
          "latitude": 40.30437177531679,
          "longitude": -125.0589849128302,
          "pitch": 0,
          "zoom": 5.279017859889528
         },
         "mapStyle": {
          "mapStyles": {},
          "styleType": "dark",
          "threeDBuildingColor": [
           9.665468314072013,
           17.18305478057247,
           31.1442867897876
          ],
          "topLayerGroups": {},
          "visibleLayerGroups": {
           "3d building": false,
           "border": false,
           "building": true,
           "label": true,
           "land": true,
           "road": true,
           "water": true
          }
         },
         "visState": {
          "filters": [],
          "interactionConfig": {
           "brush": {
            "enabled": false,
            "size": 0.5
           },
           "tooltip": {
            "enabled": true,
            "fieldsToShow": {}
           }
          },
          "layerBlending": "normal",
          "layers": [],
          "splitMaps": []
         }
        },
        "version": "v1"
       },
       "height": 800,
       "layout": "IPY_MODEL_c8c778a0e5094a0db7c3166afe750ed0",
       "value": "Hello World!"
      }
     },
     "e13dccd4a19449fb9037ae88abbced70": {
      "model_module": "keplergl-jupyter",
      "model_module_version": "^0.1.0",
      "model_name": "KeplerGlModal",
      "state": {
       "_model_module_version": "^0.1.0",
       "_view_module_version": "^0.1.0",
       "config": {
        "config": {
         "mapState": {
          "bearing": 0,
          "dragRotate": false,
          "isSplit": false,
          "latitude": 48.8613995,
          "longitude": 2.3409605,
          "pitch": 0,
          "zoom": 13
         },
         "mapStyle": {
          "mapStyles": {},
          "styleType": "dark",
          "threeDBuildingColor": [
           9.665468314072013,
           17.18305478057247,
           31.1442867897876
          ],
          "topLayerGroups": {},
          "visibleLayerGroups": {
           "3d building": false,
           "border": false,
           "building": true,
           "label": true,
           "land": true,
           "road": true,
           "water": true
          }
         },
         "visState": {
          "filters": [],
          "interactionConfig": {
           "brush": {
            "enabled": false,
            "size": 0.5
           },
           "tooltip": {
            "enabled": true,
            "fieldsToShow": {
             "Cafés à 1€": [
              "arrondissement",
              "adresse",
              "prix_salle",
              "nom_du_cafe",
              "prix_terasse"
             ]
            }
           }
          },
          "layerBlending": "normal",
          "layers": [
           {
            "config": {
             "color": [
              197,
              21,
              74
             ],
             "columns": {
              "geojson": "geometry"
             },
             "dataId": "Cafés à 1€",
             "isVisible": true,
             "label": "Cafés à 1€",
             "textLabel": [
              {
               "alignment": "center",
               "anchor": "start",
               "color": [
                255,
                255,
                255
               ],
               "field": null,
               "offset": [
                0,
                0
               ],
               "size": 18
              }
             ],
             "visConfig": {
              "colorRange": {
               "category": "Uber",
               "colors": [
                "#5A1846",
                "#900C3F",
                "#C70039",
                "#E3611C",
                "#F1920E",
                "#FFC300"
               ],
               "name": "Global Warming",
               "type": "sequential"
              },
              "elevationScale": 5,
              "enable3d": false,
              "filled": true,
              "heightRange": [
               0,
               500
              ],
              "opacity": 0.8,
              "radius": 10,
              "radiusRange": [
               0,
               50
              ],
              "sizeRange": [
               0,
               10
              ],
              "strokeColor": null,
              "strokeColorRange": {
               "category": "Uber",
               "colors": [
                "#5A1846",
                "#900C3F",
                "#C70039",
                "#E3611C",
                "#F1920E",
                "#FFC300"
               ],
               "name": "Global Warming",
               "type": "sequential"
              },
              "stroked": false,
              "thickness": 0.5,
              "wireframe": false
             }
            },
            "id": "okszg0c",
            "type": "geojson",
            "visualChannels": {
             "colorField": null,
             "colorScale": "quantile",
             "heightField": null,
             "heightScale": "linear",
             "radiusField": null,
             "radiusScale": "linear",
             "sizeField": null,
             "sizeScale": "linear",
             "strokeColorField": null,
             "strokeColorScale": "quantile"
            }
           }
          ],
          "splitMaps": []
         }
        },
        "version": "v1"
       },
       "data": {
        "Cafés à 1€": {
         "columns": [
          "arrondissement",
          "adresse",
          "prix_salle",
          "nom_du_cafe",
          "prix_terasse",
          "date",
          "prix_comptoir",
          "geometry"
         ],
         "data": [
          [
           75015,
           "344Vrue Vaugirard",
           "-",
           "Coffee Chope",
           "-",
           "2014-02-01",
           1,
           "POINT (2.3024160000000000 48.8396949999999990)"
          ],
          [
           75010,
           "5, rue d'Alsace",
           "-",
           "Extérieur Quai",
           "-",
           "2014-02-01",
           1,
           "POINT (2.3576009999999998 48.8767369999999985)"
          ],
          [
           75004,
           "6 Bd henri IV",
           "-",
           "Le Sully",
           "-",
           "2014-02-01",
           1,
           "POINT (2.3620290000000002 48.8508520000000033)"
          ],
          [
           75018,
           "53 rue du ruisseau",
           "-",
           "O q de poule",
           "1",
           "2013-08-22",
           1,
           "POINT (2.3402710000000000 48.8935170000000028)"
          ],
          [
           75018,
           "112 Rue Championnet",
           "-",
           "La Renaissance",
           "-",
           "2013-08-22",
           1,
           "POINT (2.3397120000000000 48.8958250000000021)"
          ],
          [
           75001,
           "202 rue Saint Honoré",
           "-",
           "Ragueneau",
           "-",
           "2012-05-11",
           1,
           "POINT (2.3376100000000002 48.8626689999999968)"
          ],
          [
           75009,
           "51 Rue Victoire",
           "1",
           "Le chantereine",
           "-",
           "2012-10-22",
           1,
           "POINT (2.3355359999999998 48.8751549999999995)"
          ],
          [
           75018,
           "11 rue Feutrier",
           "1",
           "Le Müller",
           "-",
           "2012-10-22",
           1,
           "POINT (2.3465250000000002 48.8865359999999995)"
          ],
          [
           75015,
           "21 rue Copreaux",
           "1",
           "Le drapeau de la fidelité",
           "-",
           "2012-10-22",
           1,
           "POINT (2.3071169999999999 48.8414939999999973)"
          ],
          [
           75015,
           "125 rue Blomet",
           "1",
           "Le café des amis",
           "-",
           "2012-10-22",
           1,
           "POINT (2.2968980000000001 48.8397429999999986)"
          ],
          [
           75004,
           "10 rue Saint Martin",
           "-",
           "Le Café Livres",
           "-",
           "2012-10-09",
           1,
           "POINT (2.3496410000000001 48.8577280000000016)"
          ],
          [
           75007,
           "46 avenue Bosquet",
           "-",
           "Le Bosquet",
           "-",
           "2012-10-09",
           1,
           "POINT (2.3045700000000000 48.8560030000000012)"
          ],
          [
           75013,
           "34 avenue Pierre Mendès-France",
           "-",
           "Le Kleemend's",
           "-",
           "2012-03-07",
           1,
           "POINT (2.3704779999999999 48.8385210000000001)"
          ],
          [
           75012,
           "202 rue du faubourg st antoine",
           "-",
           "Café Pierre",
           "-",
           "2012-03-07",
           1,
           "POINT (2.3853420000000001 48.8498609999999971)"
          ],
          [
           75008,
           "61 rue de Ponthieu",
           "-",
           "Les Arcades",
           "-",
           "2012-03-07",
           1,
           "POINT (2.3046240000000000 48.8722020000000015)"
          ],
          [
           75007,
           "31 rue Saint-Dominique",
           "-",
           "Le Square",
           "-",
           "2012-03-07",
           1,
           "POINT (2.3203149999999999 48.8590310000000017)"
          ],
          [
           75012,
           "75, avenue Ledru-Rollin",
           "-",
           "Assaporare Dix sur Dix",
           "-",
           "2012-06-27",
           1,
           "POINT (2.3746299999999998 48.8500919999999965)"
          ],
          [
           75002,
           "129 boulevard sebastopol",
           "-",
           "Au cerceau d'or",
           "-",
           "2012-06-27",
           1,
           "POINT (2.3533130000000000 48.8680499999999967)"
          ],
          [
           75012,
           "21 ter boulevard Diderot",
           "-",
           "Aux cadrans",
           "-",
           "2012-06-27",
           1,
           "POINT (2.3730509999999998 48.8459270000000032)"
          ],
          [
           75016,
           "17 rue Jean de la Fontaine",
           "-",
           "Café antoine",
           "-",
           "2012-06-27",
           1,
           "POINT (2.2738830000000001 48.8516619999999975)"
          ],
          [
           75008,
           "rue de Lisbonne",
           "-",
           "Café de la Mairie (du VIII)",
           "-",
           "2012-06-27",
           1,
           "POINT (2.3126880000000001 48.8775779999999997)"
          ],
          [
           75005,
           "5 rue Claude Bernard",
           "-",
           "Café Lea",
           "-",
           "2012-06-27",
           1,
           "POINT (2.3499159999999999 48.8386330000000015)"
          ],
          [
           75005,
           "11 boulevard Saint-Germain",
           "-",
           "Cardinal Saint-Germain",
           "-",
           "2012-06-27",
           1,
           "POINT (2.3544860000000001 48.8492930000000030)"
          ],
          [
           75002,
           "52 rue Notre-Dame des Victoires",
           "-",
           "Dédé la frite",
           "-",
           "2012-06-27",
           1,
           "POINT (2.3425120000000001 48.8697659999999985)"
          ],
          [
           75015,
           "36 rue du hameau",
           "-",
           "La Bauloise",
           "-",
           "2012-06-27",
           1,
           "POINT (2.2873450000000002 48.8340510000000023)"
          ],
          [
           75019,
           "71 quai de Seine",
           "-",
           "Le Bellerive",
           "-",
           "2012-06-27",
           1,
           "POINT (2.3773870000000001 48.8881650000000008)"
          ],
          [
           75001,
           "42 rue coquillère",
           "-",
           "Le bistrot de Maëlle et Augustin",
           "-",
           "2012-06-27",
           1,
           "POINT (2.3409970000000002 48.8645429999999976)"
          ],
          [
           75009,
           "14 rue Rougemont",
           "-",
           "Le Dellac",
           "-",
           "2012-06-27",
           1,
           "POINT (2.3461609999999999 48.8721030000000027)"
          ],
          [
           75004,
           "1 rue Pecquay",
           "-",
           "Le Felteu",
           "-",
           "2012-06-27",
           1,
           "POINT (2.3555980000000001 48.8596450000000004)"
          ],
          [
           75001,
           "2 bis quai de la mégisserie",
           "-",
           "Le Reynou",
           "-",
           "2012-06-27",
           1,
           "POINT (2.3461010000000000 48.8576300000000003)"
          ],
          [
           75018,
           "23 rue des abbesses",
           "-",
           "Le Saint Jean",
           "-",
           "2012-06-27",
           1,
           "POINT (2.3377340000000002 48.8846459999999965)"
          ],
          [
           75006,
           "16 rue DE MEZIERES",
           "-",
           "L'antre d'eux",
           "-",
           "2014-02-01",
           1,
           "POINT (2.3303900000000000 48.8503230000000030)"
          ],
          [
           75002,
           "58 rue de Montorgueil",
           "-",
           "Drole d'endroit pour une rencontre",
           "-",
           "2014-02-01",
           1,
           "POINT (2.3469380000000002 48.8649569999999969)"
          ],
          [
           75018,
           "104 rue caulaincourt",
           "-",
           "Le pari's café",
           "-",
           "2014-02-01",
           1,
           "POINT (2.3397350000000001 48.8895649999999975)"
          ],
          [
           75011,
           "60 rue saint-sabin",
           "-",
           "Le Poulailler",
           "-",
           "2014-02-01",
           1,
           "POINT (2.3688709999999999 48.8591150000000027)"
          ],
          [
           75012,
           "33 Cour Saint Emilion",
           "-",
           "Chai 33",
           "-",
           "2014-02-01",
           1,
           "POINT (2.3860399999999999 48.8335950000000025)"
          ],
          [
           75011,
           "99 rue Jean-Pierre Timbaud",
           "-",
           "L'Assassin",
           "-",
           "2014-02-01",
           1,
           "POINT (2.3799690000000000 48.8687410000000000)"
          ],
          [
           75020,
           "1 rue d'Avron",
           "-",
           "l'Usine",
           "-",
           "2014-02-01",
           1,
           "POINT (2.3986909999999999 48.8514630000000025)"
          ],
          [
           75018,
           "52 rue Liebniz",
           "-",
           "La Bricole",
           "-",
           "2014-02-01",
           1,
           "POINT (2.3328980000000001 48.8963049999999981)"
          ],
          [
           75003,
           "82 rue des archives",
           "-",
           "Face Bar",
           "-",
           "2014-02-01",
           1,
           "POINT (2.3603999999999998 48.8630380000000031)"
          ],
          [
           75003,
           "Place de la République",
           "-",
           "Le café Monde et Médias",
           "-",
           "2013-08-22",
           1,
           "POINT (2.3634830000000000 48.8669760000000011)"
          ],
          [
           75010,
           "49 rue bichat",
           "-",
           "American Kitchen",
           "-",
           "2013-08-22",
           1,
           "POINT (2.3663919999999998 48.8727459999999994)"
          ],
          [
           75010,
           "55 bis quai de valmy",
           "-",
           "La Marine",
           "-",
           "2013-08-22",
           1,
           "POINT (2.3654130000000002 48.8705980000000011)"
          ],
          [
           75017,
           "21 avenue Brochant",
           "-",
           "Le Bloc",
           "-",
           "2013-08-22",
           1,
           "POINT (2.3180010000000002 48.8891009999999966)"
          ],
          [
           75020,
           "229 avenue Gambetta",
           "-",
           "La Recoleta au Manoir",
           "-",
           "2013-08-22",
           1,
           "POINT (2.4054210000000000 48.8746969999999976)"
          ],
          [
           75015,
           "80 Rue Saint-Charles",
           "-",
           "Le Pareloup",
           "-",
           "2013-08-22",
           0,
           "POINT (2.2860779999999998 48.8473439999999997)"
          ],
          [
           75014,
           "3 rue de la Gaité",
           "-",
           "La Brasserie Gaité",
           "1",
           "2013-08-22",
           "nan",
           "POINT (2.3245890000000000 48.8407709999999966)"
          ],
          [
           75009,
           "46 rue Victoire",
           "-",
           "Café Zen",
           "-",
           "2012-05-11",
           1,
           "POINT (2.3360360000000000 48.8752319999999969)"
          ],
          [
           75005,
           "7 rue Epée de Bois",
           "1",
           "Invitez vous chez nous",
           "-",
           "2012-10-22",
           1,
           "POINT (2.3510119999999999 48.8415260000000018)"
          ],
          [
           75002,
           "142 Rue Saint-Denis 75002 Paris",
           "1",
           "La Cordonnerie",
           "-",
           "2012-10-22",
           1,
           "POINT (2.3505069999999999 48.8652500000000032)"
          ],
          [
           75018,
           "3, rue Baudelique",
           "1",
           "Le Supercoin",
           "-",
           "2012-10-22",
           1,
           "POINT (2.3469730000000002 48.8922439999999980)"
          ],
          [
           75018,
           "86 bis rue Riquet",
           "1",
           "Populettes",
           "-",
           "2012-10-22",
           1,
           "POINT (2.3622410000000000 48.8900429999999986)"
          ],
          [
           75018,
           "49 rue des Cloys",
           "1",
           "Au bon coin",
           "1",
           "2012-10-18",
           1,
           "POINT (2.3377759999999999 48.8930170000000004)"
          ],
          [
           75013,
           "69 rue Broca",
           "1",
           "Le Couvent",
           "-",
           "2012-10-18",
           1,
           "POINT (2.3470030000000000 48.8369190000000017)"
          ],
          [
           75005,
           "111 rue mouffetard",
           "1",
           "La Brûlerie des Ternes",
           "-",
           "2012-10-18",
           1,
           "POINT (2.3497659999999998 48.8406239999999983)"
          ],
          [
           75014,
           "59 Boulevard Saint-Jacques",
           "-",
           "L'Écir",
           "-",
           "2012-10-09",
           1,
           "POINT (2.3361160000000001 48.8328249999999997)"
          ],
          [
           75012,
           "126, rue du Faubourg Saint Antoine",
           "-",
           "Le Chat bossu",
           "-",
           "2012-10-09",
           1,
           "POINT (2.3784169999999998 48.8506959999999992)"
          ],
          [
           75014,
           "58 boulvevard Saint Jacques",
           "-",
           "Denfert café",
           "-",
           "2012-10-09",
           1,
           "POINT (2.3338100000000002 48.8341569999999976)"
          ],
          [
           75002,
           "place de l'opera",
           "-",
           "L'Entracte",
           "-",
           "2012-10-09",
           1,
           "POINT (2.3322699999999998 48.8700570000000027)"
          ],
          [
           75002,
           "95 rue Montmartre",
           "-",
           "Le Café frappé",
           "-",
           "2012-10-09",
           1,
           "POINT (2.3435820000000001 48.8679479999999984)"
          ],
          [
           75003,
           "78 rue vieille du temple",
           "-",
           "La Perle",
           "-",
           "2012-10-09",
           1,
           "POINT (2.3605580000000002 48.8597719999999995)"
          ],
          [
           75005,
           "1 rue Thouin",
           "-",
           "Le Descartes",
           "-",
           "2012-10-09",
           1,
           "POINT (2.3495830000000000 48.8450470000000010)"
          ],
          [
           75014,
           "55 rue de la tombe Issoire",
           "-",
           "Le petit club",
           "-",
           "2012-03-07",
           1,
           "POINT (2.3342130000000001 48.8301510000000007)"
          ],
          [
           75011,
           "90 avenue Parmentier",
           "-",
           "Le Plein soleil",
           "-",
           "2012-03-07",
           1,
           "POINT (2.3743820000000002 48.8657070000000004)"
          ],
          [
           75008,
           "146, boulevard Haussmann",
           "-",
           "Le Relais Haussmann",
           "-",
           "2012-03-07",
           1,
           "POINT (2.3123290000000001 48.8753219999999970)"
          ],
          [
           75007,
           "88 rue Saint-Dominique",
           "-",
           "Le Malar",
           "-",
           "2012-03-07",
           1,
           "POINT (2.3064300000000002 48.8595589999999973)"
          ],
          [
           75020,
           "47 rue Belgrand",
           "-",
           "Au panini de la place",
           "-",
           "2012-03-07",
           1,
           "POINT (2.4080379999999999 48.8646280000000033)"
          ],
          [
           75017,
           "182 rue de Courcelles",
           "-",
           "Le Village",
           "-",
           "2012-03-07",
           1,
           "POINT (2.2979780000000001 48.8843499999999977)"
          ],
          [
           75011,
           "41 rue de Charonne",
           "-",
           "Pause Café",
           "-",
           "2012-03-07",
           1,
           "POINT (2.3767060000000000 48.8533809999999988)"
          ],
          [
           75011,
           "14 rue Jean Macé",
           "-",
           "Le Pure café",
           "-",
           "2012-03-07",
           1,
           "POINT (2.3834149999999998 48.8532530000000023)"
          ],
          [
           75011,
           "307 fg saint Antoine",
           "-",
           "Extra old café",
           "-",
           "2012-03-07",
           1,
           "POINT (2.3928590000000001 48.8488729999999975)"
          ],
          [
           75010,
           "44 rue Vinaigriers",
           "-",
           "Chez Fafa",
           "-",
           "2012-03-07",
           1,
           "POINT (2.3607870000000002 48.8732270000000000)"
          ],
          [
           75011,
           "3 rue Faidherbe",
           "-",
           "En attendant l'or",
           "-",
           "2012-06-27",
           1,
           "POINT (2.3840690000000002 48.8508360000000010)"
          ],
          [
           75002,
           "30 rue des Petits-Champs",
           "-",
           "Brûlerie San José",
           "-",
           "2012-06-27",
           1,
           "POINT (2.3360059999999998 48.8669930000000008)"
          ],
          [
           75001,
           "14 rue Turbigo, Paris",
           "-",
           "Etienne",
           "-",
           "2012-06-27",
           1,
           "POINT (2.3487010000000001 48.8636750000000006)"
          ],
          [
           75011,
           "184 bd Voltaire",
           "-",
           "L'ingénu",
           "-",
           "2012-06-27",
           1,
           "POINT (2.3851930000000001 48.8545840000000027)"
          ],
          [
           75018,
           "8 rue L'Olive",
           "-",
           "L'Olive",
           "-",
           "2012-06-27",
           1,
           "POINT (2.3613490000000001 48.8906050000000008)"
          ],
          [
           75002,
           "18 rue Favart",
           "-",
           "Le Biz",
           "-",
           "2012-06-27",
           1,
           "POINT (2.3383210000000001 48.8713959999999972)"
          ],
          [
           75002,
           "1 rue Louis le Grand",
           "-",
           "Le Cap Bourbon",
           "-",
           "2012-06-27",
           1,
           "POINT (2.3317850000000000 48.8681089999999969)"
          ],
          [
           75015,
           "9 Place du General Beuret",
           "-",
           "Le General Beuret",
           "-",
           "2012-06-27",
           1,
           "POINT (2.3030529999999998 48.8416700000000006)"
          ],
          [
           75015,
           "95 avenue Emile Zola",
           "-",
           "Le Germinal",
           "-",
           "2012-06-27",
           1,
           "POINT (2.2893110000000001 48.8468140000000020)"
          ],
          [
           75018,
           "72 rue lamarck",
           "-",
           "Le refuge",
           "-",
           "2012-06-27",
           1,
           "POINT (2.3389329999999999 48.8899820000000034)"
          ],
          [
           75010,
           "13 rue du Faubourg Saint Denis",
           "-",
           "Le sully",
           "-",
           "2012-06-27",
           1,
           "POINT (2.3528210000000001 48.8702940000000012)"
          ],
          [
           75015,
           "65 boulevard Pasteur",
           "-",
           "les montparnos",
           "-",
           "2012-06-27",
           1,
           "POINT (2.3146689999999999 48.8410110000000017)"
          ],
          [
           75015,
           "60 rue des bergers",
           "-",
           "Le bal du pirate",
           "-",
           "2014-02-01",
           1,
           "POINT (2.2803740000000001 48.8421280000000024)"
          ],
          [
           75012,
           "95 rue claude decaen",
           "-",
           "zic zinc",
           "-",
           "2014-02-01",
           1,
           "POINT (2.3960900000000001 48.8387689999999992)"
          ],
          [
           75011,
           "35 rue de l'orillon",
           "-",
           "l'orillon bar",
           "-",
           "2014-02-01",
           1,
           "POINT (2.3763060000000000 48.8702469999999991)"
          ],
          [
           75020,
           "116 Rue de Ménilmontant",
           "-",
           "Le Zazabar",
           "-",
           "2013-08-22",
           1,
           "POINT (2.3942470000000000 48.8698479999999975)"
          ],
          [
           75005,
           "11 Quai de la Tournelle",
           "-",
           "Café rallye tournelles",
           "-",
           "2013-08-22",
           1,
           "POINT (2.3553350000000002 48.8498209999999986)"
          ],
          [
           75005,
           "22 rue Linné",
           "-",
           "L'Inévitable",
           "-",
           "2013-08-22",
           1,
           "POINT (2.3547959999999999 48.8454580000000007)"
          ],
          [
           75002,
           "1 Passage du Grand Cerf",
           "-",
           "Le Pas Sage",
           "-",
           "2013-08-22",
           1,
           "POINT (2.3495590000000002 48.8647390000000001)"
          ],
          [
           75013,
           "77 rue Dunois",
           "-",
           "Le Dunois",
           "-",
           "2013-08-22",
           1,
           "POINT (2.3657819999999998 48.8333599999999990)"
          ],
          [
           75013,
           "48 rue du Dessous des Berges",
           "1",
           "Le Caminito",
           null,
           "2012-10-22",
           1,
           "POINT (2.3745710000000000 48.8266080000000002)"
          ],
          [
           75010,
           "55bis quai de Valmy",
           "1",
           "Epicerie Musicale",
           "-",
           "2012-10-22",
           1,
           "POINT (2.3654130000000002 48.8705980000000011)"
          ],
          [
           75008,
           "27 rue de Penthièvre",
           "1",
           "O'Breizh",
           "-",
           "2012-10-22",
           1,
           "POINT (2.3152130000000000 48.8726619999999983)"
          ],
          [
           75011,
           "104 rue amelot",
           "1",
           "Le Centenaire",
           "-",
           "2012-10-22",
           1,
           "POINT (2.3674270000000002 48.8625749999999996)"
          ],
          [
           75005,
           "13 Rue du Pot de Fer",
           "1",
           "La Montagne Sans Geneviève",
           "-",
           "2012-10-22",
           "nan",
           "POINT (2.3483139999999998 48.8428329999999988)"
          ],
          [
           75020,
           "46 rue de Buzenval",
           "1",
           "Les Pères Populaires",
           "-",
           "2012-10-18",
           1,
           "POINT (2.4017100000000000 48.8513250000000028)"
          ],
          [
           75007,
           "188 rue de Grenelle",
           "-",
           "Cafe de grenelle",
           "-",
           "2012-10-09",
           1,
           "POINT (2.3056130000000001 48.8576580000000007)"
          ],
          [
           75009,
           "73 rue de la Victoire",
           "-",
           "Le relais de la victoire",
           "-",
           "2012-10-09",
           1,
           "POINT (2.3329439999999999 48.8752070000000032)"
          ],
          [
           75018,
           "216, rue Marcadet",
           "-",
           "Le Brio",
           "-",
           "2012-03-07",
           1,
           "POINT (2.3336500000000000 48.8918820000000025)"
          ],
          [
           75017,
           "22 rue des Dames",
           "-",
           "Caves populaires",
           "-",
           "2012-03-07",
           1,
           "POINT (2.3246479999999998 48.8847530000000035)"
          ],
          [
           75014,
           "12 avenue Jean Moulin",
           "-",
           "Caprice café",
           "-",
           "2012-03-07",
           1,
           "POINT (2.3256519999999998 48.8274279999999976)"
          ],
          [
           75013,
           "7 rue Clisson",
           "-",
           "Tamm Bara",
           "-",
           "2012-03-07",
           1,
           "POINT (2.3692660000000001 48.8329639999999969)"
          ],
          [
           75011,
           "93, rue de la Roquette",
           "-",
           "L'horizon",
           "-",
           "2012-03-07",
           1,
           "POINT (2.3790550000000001 48.8573110000000028)"
          ],
          [
           75009,
           "1 rue de Montholon",
           "-",
           "L'anjou",
           "-",
           "2012-03-07",
           1,
           "POINT (2.3484140000000000 48.8765769999999975)"
          ],
          [
           75005,
           "10 rue d\"Ulm",
           "-",
           "Waikiki",
           "-",
           "2012-03-07",
           1,
           "POINT (2.3454130000000002 48.8448539999999980)"
          ],
          [
           75010,
           "36 rue Beaurepaire",
           "-",
           "Chez Prune",
           "-",
           "2012-03-07",
           1,
           "POINT (2.3644989999999999 48.8715759999999975)"
          ],
          [
           75014,
           "21 rue Boulard",
           "-",
           "Au Vin Des Rues",
           "-",
           "2012-06-27",
           1,
           "POINT (2.3290459999999999 48.8338630000000009)"
          ],
          [
           75015,
           "14 rue d'alleray",
           "-",
           "bistrot les timbrés",
           "-",
           "2012-06-27",
           1,
           "POINT (2.3011659999999998 48.8381370000000032)"
          ],
          [
           75008,
           "9 rue de Miromesnil",
           "-",
           "Café beauveau",
           "-",
           "2012-06-27",
           1,
           "POINT (2.3159850000000000 48.8717990000000029)"
          ],
          [
           75001,
           "9 rue des petits champs",
           "-",
           "Café Pistache",
           "-",
           "2012-06-27",
           1,
           "POINT (2.3387389999999999 48.8662589999999994)"
          ],
          [
           75012,
           "28 bis boulevard Diderot",
           "-",
           "Le Killy Jen",
           "-",
           "2012-06-27",
           1,
           "POINT (2.3755430000000000 48.8459100000000035)"
          ],
          [
           75015,
           "106 rue Lecourbe",
           "-",
           "Les Artisans",
           "-",
           "2012-06-27",
           1,
           "POINT (2.3031730000000001 48.8428680000000028)"
          ],
          [
           75001,
           "83 avenue de Wagram",
           "-",
           "Peperoni",
           "-",
           "2012-06-27",
           1,
           "POINT (2.3342209999999999 48.8656659999999974)"
          ],
          [
           75015,
           "380 rue de vaugirard",
           "-",
           "le lutece",
           "-",
           "2014-02-01",
           1,
           "POINT (2.2888340000000000 48.8331459999999993)"
          ],
          [
           75018,
           "16 rue Ganneron",
           "-",
           "Brasiloja",
           "-",
           "2014-02-01",
           1,
           "POINT (2.3274290000000000 48.8864310000000017)"
          ],
          [
           75004,
           "16 rue de Rivoli",
           "-",
           "Rivolux",
           "-",
           "2014-02-01",
           1,
           "POINT (2.3594909999999998 48.8557109999999994)"
          ],
          [
           75012,
           "21 Bis Boulevard Diderot",
           "-",
           "L'européen",
           "-",
           "2013-08-22",
           1,
           "POINT (2.3727659999999999 48.8458979999999983)"
          ],
          [
           75003,
           "39 rue Notre Dame de Nazareth",
           "-",
           "NoMa",
           "-",
           "2013-08-22",
           1,
           "POINT (2.3577910000000002 48.8674650000000028)"
          ],
          [
           75020,
           "1 Rue des Envierges",
           "-",
           "O'Paris",
           "-",
           "2013-08-22",
           1,
           "POINT (2.3858579999999998 48.8715949999999992)"
          ],
          [
           75010,
           "16 avenue Richerand",
           "-",
           "Café Clochette",
           "-",
           "2013-08-22",
           1,
           "POINT (2.3665319999999999 48.8724020000000010)"
          ],
          [
           75011,
           "40 Boulevard Beaumarchais",
           "-",
           "La cantoche de Paname",
           "-",
           "2013-08-22",
           0,
           "POINT (2.3685740000000002 48.8565839999999980)"
          ],
          [
           75020,
           "148 Boulevard de Charonne",
           "-",
           "Le Saint René",
           "-",
           "2013-08-22",
           1,
           "POINT (2.3948740000000002 48.8564959999999999)"
          ],
          [
           75012,
           "196 rue du faubourg saint-antoine",
           "1",
           "La Liberté",
           "-",
           "2012-10-22",
           1,
           "POINT (2.3839079999999999 48.8500549999999976)"
          ],
          [
           75002,
           "16 rue des Petits Champs",
           "1",
           "Chez Rutabaga",
           "-",
           "2012-10-22",
           1,
           "POINT (2.3371599999999999 48.8667370000000005)"
          ],
          [
           75017,
           "2 rue Lemercier",
           "1",
           "Le BB (Bouchon des Batignolles)",
           "-",
           "2012-10-22",
           1,
           "POINT (2.3253249999999999 48.8853670000000022)"
          ],
          [
           75009,
           "10 rue Rossini",
           "1",
           "La Brocante",
           "-",
           "2012-10-22",
           1,
           "POINT (2.3391929999999999 48.8731750000000034)"
          ],
          [
           75002,
           "23 rue saint augustin",
           "1",
           "Le Petit Choiseul",
           "-",
           "2012-10-22",
           1,
           "POINT (2.3360550000000000 48.8688459999999978)"
          ],
          [
           75014,
           "3 rue Gaîté",
           "1",
           "Le Plomb du cantal",
           "-",
           "2012-10-22",
           1,
           "POINT (2.3245890000000000 48.8407709999999966)"
          ],
          [
           75017,
           "22 rue des Dames",
           "1",
           "Les caves populaires",
           "-",
           "2012-10-22",
           1,
           "POINT (2.3246479999999998 48.8847530000000035)"
          ],
          [
           75020,
           "108 rue de Ménilmontant",
           "-",
           "Chez Luna",
           "-",
           "2012-10-09",
           1,
           "POINT (2.3933900000000001 48.8695189999999968)"
          ],
          [
           75019,
           "1 rue du Plateau",
           "-",
           "Le bar Fleuri",
           "-",
           "2012-03-07",
           1,
           "POINT (2.3853650000000002 48.8779030000000034)"
          ],
          [
           75017,
           "101 rue des dames",
           "-",
           "Trois pièces cuisine",
           "-",
           "2012-03-07",
           1,
           "POINT (2.3180900000000002 48.8829390000000004)"
          ],
          [
           75017,
           "Place de Clichy",
           "-",
           "Bagels & Coffee Corner",
           "-",
           "2012-03-07",
           1,
           "POINT (2.3268730000000000 48.8837469999999996)"
          ],
          [
           75015,
           "61 avenue de la Motte Picquet",
           "-",
           "Le Zinc",
           "-",
           "2012-03-07",
           1,
           "POINT (2.2988550000000001 48.8494969999999995)"
          ],
          [
           75010,
           "136 rue du Faubourg poissonnière",
           "-",
           "La cantine de Zoé",
           "-",
           "2012-03-07",
           1,
           "POINT (2.3499639999999999 48.8806689999999975)"
          ],
          [
           75007,
           "2 rue Robert Esnault Pelterie",
           "-",
           "Café dans l'aerogare Air France Invalides",
           "-",
           "2012-03-07",
           1,
           "POINT (2.3149099999999998 48.8610740000000021)"
          ],
          [
           75006,
           "6/8 rue Stanislas",
           "-",
           "Les Vendangeurs",
           "-",
           "2012-03-07",
           1,
           "POINT (2.3284020000000001 48.8440569999999994)"
          ],
          [
           75006,
           "3 carrefour de l'Odéon",
           "-",
           "L'avant comptoir",
           "-",
           "2012-03-07",
           1,
           "POINT (2.3387790000000002 48.8520529999999980)"
          ],
          [
           75018,
           "1 rue Paul albert",
           "1",
           "Botak cafe",
           "1",
           "2012-03-07",
           1,
           "POINT (2.3449800000000001 48.8865040000000022)"
          ],
          [
           75010,
           "67 rue du Château d'eau",
           "-",
           "le chateau d'eau",
           "-",
           "2012-03-07",
           1,
           "POINT (2.3545940000000001 48.8727220000000031)"
          ],
          [
           75012,
           "58 rue du Fbg Saint-Antoine",
           "-",
           "Bistrot Saint-Antoine",
           "-",
           "2012-06-27",
           1,
           "POINT (2.3732289999999998 48.8519199999999998)"
          ],
          [
           75004,
           "11/13 boulevard Beaumarchais",
           "-",
           "Chez Oscar",
           "-",
           "2012-06-27",
           1,
           "POINT (2.3684870000000000 48.8546850000000035)"
          ],
          [
           75015,
           "172 rue de vaugirard",
           "-",
           "le 1 cinq",
           "-",
           "2012-06-27",
           1,
           "POINT (2.3109400000000000 48.8424600000000027)"
          ],
          [
           75008,
           "63 rue de Ponthieu",
           "-",
           "Le Fronton",
           "-",
           "2012-06-27",
           1,
           "POINT (2.3044410000000002 48.8722599999999971)"
          ],
          [
           75015,
           "48 avenue de la Motte Picquet",
           "-",
           "Le Piquet",
           "-",
           "2012-06-27",
           1,
           "POINT (2.3003779999999998 48.8509999999999991)"
          ],
          [
           75001,
           "202 rue Saint-Honoré",
           "-",
           "Le Ragueneau",
           "-",
           "2012-06-27",
           1,
           "POINT (2.3376100000000002 48.8626689999999968)"
          ],
          [
           75005,
           "104 rue Mouffetard",
           "-",
           "Le Tournebride",
           "-",
           "2012-06-27",
           1,
           "POINT (2.3495650000000001 48.8410889999999966)"
          ],
          [
           75014,
           "52 rue des plantes",
           "-",
           "maison du vin",
           "-",
           "2012-06-27",
           1,
           "POINT (2.3220740000000002 48.8287040000000019)"
          ],
          [
           75012,
           "157 rue Bercy 75012 Paris",
           "-",
           "L'entrepôt",
           "-",
           "2014-02-01",
           1,
           "POINT (2.3759860000000002 48.8421459999999996)"
          ],
          [
           75005,
           "place maubert",
           "-",
           "le ronsard",
           "-",
           "2014-02-01",
           1,
           "POINT (2.3489710000000001 48.8503540000000029)"
          ],
          [
           75010,
           "61 rue du château d'eau",
           "-",
           "Brasserie le Morvan",
           "-",
           "2013-08-22",
           1,
           "POINT (2.3551359999999999 48.8724980000000002)"
          ],
          [
           75019,
           "6 rue Mélingue",
           "1",
           "Chez Miamophile",
           "1",
           "2013-08-22",
           1,
           "POINT (2.3860640000000002 48.8748790000000000)"
          ],
          [
           75011,
           "Rue de la Fontaine au Roi",
           "-",
           "La Caravane",
           "-",
           "2012-05-11",
           0,
           "POINT (2.3728989999999999 48.8681309999999982)"
          ],
          [
           75011,
           "18 rue de Crussol",
           "-",
           "Panem",
           "-",
           "2012-05-11",
           0,
           "POINT (2.3685800000000001 48.8642690000000002)"
          ],
          [
           75017,
           "47 rue de Batignolles",
           "-",
           "Petits Freres des Pauvres",
           "-",
           "2012-05-11",
           0,
           "POINT (2.3195910000000000 48.8856620000000035)"
          ],
          [
           75015,
           "198 rue de la Convention",
           "-",
           "Café Dupont",
           "-",
           "2012-05-11",
           0,
           "POINT (2.2960460000000000 48.8372120000000010)"
          ],
          [
           75008,
           "28 rue de Ponthieu",
           "1",
           "L'Angle",
           "-",
           "2012-10-22",
           1,
           "POINT (2.3087900000000001 48.8710019999999972)"
          ],
          [
           75018,
           "19-23 rue Léon",
           "1",
           "Institut des Cultures d'Islam",
           "-",
           "2012-10-22",
           1,
           "POINT (2.3534670000000002 48.8880229999999969)"
          ],
          [
           75018,
           "19 rue Pajol",
           "1",
           "Canopy Café associatif",
           "-",
           "2012-10-22",
           1,
           "POINT (2.3607809999999998 48.8860439999999983)"
          ],
          [
           75003,
           "15 rue du Parc Royal",
           "-",
           "Le Sévigné",
           "-",
           "2012-10-09",
           1,
           "POINT (2.3627009999999999 48.8587089999999975)"
          ],
          [
           75005,
           "35 rue Claude Bernard",
           "-",
           "Le Café d'avant",
           "-",
           "2012-10-09",
           1,
           "POINT (2.3472540000000000 48.8396869999999979)"
          ],
          [
           75006,
           "53 rue Notre-Dame des Champs",
           "-",
           "Le Lucernaire",
           "-",
           "2012-10-09",
           1,
           "POINT (2.3304070000000001 48.8442440000000033)"
          ],
          [
           75009,
           "12 rue Blanche",
           "-",
           "Le Brigadier",
           "-",
           "2012-10-09",
           1,
           "POINT (2.3321109999999998 48.8775989999999965)"
          ],
          [
           75013,
           "26 rue du Docteur Magnan",
           "-",
           "L'âge d'or",
           "-",
           "2012-03-07",
           1,
           "POINT (2.3599869999999998 48.8264939999999967)"
          ],
          [
           75018,
           "12 rue Armand Carrel",
           "-",
           "Le Chaumontois",
           "-",
           "2012-03-07",
           1,
           "POINT (2.3330210000000000 48.8894760000000019)"
          ],
          [
           75015,
           "10 boulevard Victor",
           "-",
           "Café Victor",
           "-",
           "2012-03-07",
           1,
           "POINT (2.2785009999999999 48.8358429999999970)"
          ],
          [
           75012,
           "54, avenue Daumesnil",
           "-",
           "L'empreinte",
           "-",
           "2012-03-07",
           1,
           "POINT (2.3790239999999998 48.8453370000000007)"
          ],
          [
           75012,
           "34 bis rue de Wattignies",
           "-",
           "Au pays de Vannes",
           "-",
           "2012-06-27",
           1,
           "POINT (2.3957229999999998 48.8358780000000010)"
          ],
          [
           75001,
           "2 place Martin Nadaud",
           "-",
           "Café Martin",
           "-",
           "2012-06-27",
           1,
           "POINT (2.3423029999999998 48.8568220000000011)"
          ],
          [
           75007,
           "36 rue de Varenne",
           "-",
           "Café Varenne",
           "-",
           "2012-06-27",
           1,
           "POINT (2.3235389999999998 48.8541299999999978)"
          ],
          [
           75004,
           "125 Rue Saint-Antoine",
           "-",
           "l'Eléphant du nil",
           "-",
           "2012-06-27",
           1,
           "POINT (2.3602180000000001 48.8551610000000025)"
          ],
          [
           75020,
           "13 Rue Jean-Baptiste Dumay",
           "-",
           "La Cagnotte",
           "-",
           "2012-06-27",
           1,
           "POINT (2.3878029999999999 48.8743830000000017)"
          ],
          [
           75015,
           "354 bis rue Vaugirard",
           "-",
           "Le Comptoir",
           "-",
           "2012-06-27",
           1,
           "POINT (2.2929610000000000 48.8357000000000028)"
          ],
          [
           75015,
           "358 rue de Vaugirard",
           "-",
           "Le Parc Vaugirard",
           "-",
           "2012-06-27",
           1,
           "POINT (2.2925149999999999 48.8354509999999991)"
          ],
          [
           75014,
           "58 rue Daguerre",
           "-",
           "le Zango",
           "-",
           "2012-06-27",
           1,
           "POINT (2.3270070000000000 48.8349720000000005)"
          ],
          [
           75020,
           "3 rue de Lagny",
           "-",
           "Melting Pot",
           "-",
           "2012-06-27",
           1,
           "POINT (2.3999720000000000 48.8488869999999977)"
          ],
          [
           75017,
           "174 avenue de Clichy",
           "-",
           "Pari's Café",
           "-",
           "2012-06-27",
           1,
           "POINT (2.3173590000000002 48.8923660000000027)"
          ]
         ],
         "index": [
          0,
          1,
          2,
          3,
          4,
          5,
          6,
          7,
          8,
          9,
          10,
          11,
          12,
          13,
          14,
          15,
          16,
          17,
          18,
          19,
          20,
          21,
          22,
          23,
          24,
          25,
          26,
          27,
          28,
          29,
          30,
          31,
          32,
          33,
          34,
          35,
          36,
          37,
          38,
          39,
          40,
          41,
          42,
          43,
          44,
          45,
          46,
          47,
          48,
          49,
          50,
          51,
          52,
          53,
          54,
          55,
          56,
          57,
          58,
          59,
          60,
          61,
          62,
          63,
          64,
          65,
          66,
          67,
          68,
          69,
          70,
          71,
          72,
          73,
          74,
          75,
          76,
          77,
          78,
          79,
          80,
          81,
          82,
          83,
          84,
          85,
          86,
          87,
          88,
          89,
          90,
          91,
          92,
          93,
          95,
          96,
          97,
          98,
          99,
          100,
          102,
          103,
          104,
          105,
          106,
          107,
          108,
          109,
          110,
          111,
          112,
          113,
          114,
          115,
          116,
          117,
          118,
          119,
          120,
          121,
          122,
          123,
          124,
          125,
          126,
          127,
          128,
          129,
          130,
          131,
          132,
          133,
          134,
          135,
          136,
          137,
          138,
          139,
          140,
          141,
          142,
          143,
          144,
          145,
          146,
          147,
          148,
          149,
          150,
          151,
          152,
          153,
          154,
          155,
          156,
          157,
          158,
          159,
          160,
          161,
          162,
          163,
          164,
          165,
          166,
          167,
          168,
          169,
          170,
          171,
          172,
          173,
          174,
          175,
          176,
          177,
          178,
          179,
          180
         ]
        }
       },
       "height": 800,
       "layout": "IPY_MODEL_c246376088b344d3a97c900586700090",
       "value": "Hello World!"
      }
     },
     "eb3fce0a47024d18b54b0f0bff03a897": {
      "model_module": "keplergl-jupyter",
      "model_module_version": "^0.1.0",
      "model_name": "KeplerGlModal",
      "state": {
       "_model_module_version": "^0.1.0",
       "_view_module_version": "^0.1.0",
       "config": {
        "config": {
         "mapState": {
          "bearing": 0,
          "dragRotate": false,
          "isSplit": false,
          "latitude": 37.75043,
          "longitude": -122.34679,
          "pitch": 0,
          "zoom": 9
         },
         "mapStyle": {
          "mapStyles": {},
          "styleType": "dark",
          "threeDBuildingColor": [
           9.665468314072013,
           17.18305478057247,
           31.1442867897876
          ],
          "topLayerGroups": {},
          "visibleLayerGroups": {
           "3d building": false,
           "border": false,
           "building": true,
           "label": true,
           "land": true,
           "road": true,
           "water": true
          }
         },
         "visState": {
          "filters": [],
          "interactionConfig": {
           "brush": {
            "enabled": false,
            "size": 0.5
           },
           "tooltip": {
            "enabled": true,
            "fieldsToShow": {}
           }
          },
          "layerBlending": "normal",
          "layers": [],
          "splitMaps": []
         }
        },
        "version": "v1"
       },
       "height": 8000,
       "layout": "IPY_MODEL_8f9bb6c609364d33b07e000debcde34a",
       "value": "Hello World!"
      }
     }
    },
    "version_major": 2,
    "version_minor": 0
   }
  }
 },
 "nbformat": 4,
 "nbformat_minor": 2
}
